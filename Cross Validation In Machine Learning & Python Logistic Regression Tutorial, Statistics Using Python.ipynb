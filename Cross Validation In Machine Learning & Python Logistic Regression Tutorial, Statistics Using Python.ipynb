{
 "cells": [
  {
   "cell_type": "markdown",
   "metadata": {},
   "source": [
    "# Cross Validation In Machine Learning & Python Logistic Regression Tutorial, Statistics Using Python"
   ]
  },
  {
   "cell_type": "markdown",
   "metadata": {},
   "source": [
    "## Cross Validation"
   ]
  },
  {
   "cell_type": "markdown",
   "metadata": {},
   "source": [
    "Standard imports"
   ]
  },
  {
   "cell_type": "code",
   "execution_count": 1,
   "metadata": {
    "scrolled": true
   },
   "outputs": [],
   "source": [
    "import math\n",
    "import io"
   ]
  },
  {
   "cell_type": "code",
   "execution_count": 2,
   "metadata": {
    "scrolled": true
   },
   "outputs": [],
   "source": [
    "import numpy as np\n",
    "import pandas as pd\n",
    "\n",
    "import matplotlib\n",
    "import matplotlib.pyplot as pp\n",
    "\n",
    "%matplotlib inline"
   ]
  },
  {
   "cell_type": "code",
   "execution_count": 3,
   "metadata": {},
   "outputs": [],
   "source": [
    "# matplotlib.rcParams['figure.figsize'] = [12, 12]"
   ]
  },
  {
   "cell_type": "code",
   "execution_count": 4,
   "metadata": {},
   "outputs": [],
   "source": [
    "# !pipenv install statsmodels"
   ]
  },
  {
   "cell_type": "code",
   "execution_count": 5,
   "metadata": {
    "scrolled": true
   },
   "outputs": [],
   "source": [
    "import statsmodels\n",
    "import statsmodels.api as sm\n",
    "import statsmodels.formula.api as smf"
   ]
  },
  {
   "cell_type": "code",
   "execution_count": 6,
   "metadata": {},
   "outputs": [],
   "source": [
    "gapminder = pd.read_csv('data/gapminder.xls')"
   ]
  },
  {
   "cell_type": "code",
   "execution_count": 7,
   "metadata": {},
   "outputs": [],
   "source": [
    "gdata = gapminder.query('year == 1985')"
   ]
  },
  {
   "cell_type": "code",
   "execution_count": 8,
   "metadata": {
    "scrolled": true
   },
   "outputs": [
    {
     "data": {
      "text/html": [
       "<div>\n",
       "<style scoped>\n",
       "    .dataframe tbody tr th:only-of-type {\n",
       "        vertical-align: middle;\n",
       "    }\n",
       "\n",
       "    .dataframe tbody tr th {\n",
       "        vertical-align: top;\n",
       "    }\n",
       "\n",
       "    .dataframe thead th {\n",
       "        text-align: right;\n",
       "    }\n",
       "</style>\n",
       "<table border=\"1\" class=\"dataframe\">\n",
       "  <thead>\n",
       "    <tr style=\"text-align: right;\">\n",
       "      <th></th>\n",
       "      <th>country</th>\n",
       "      <th>year</th>\n",
       "      <th>region</th>\n",
       "      <th>population</th>\n",
       "      <th>life_expectancy</th>\n",
       "      <th>age5_surviving</th>\n",
       "      <th>babies_per_woman</th>\n",
       "      <th>gdp_per_capita</th>\n",
       "      <th>gdp_per_day</th>\n",
       "    </tr>\n",
       "  </thead>\n",
       "  <tbody>\n",
       "    <tr>\n",
       "      <th>50</th>\n",
       "      <td>Afghanistan</td>\n",
       "      <td>1985</td>\n",
       "      <td>Asia</td>\n",
       "      <td>11630498.0</td>\n",
       "      <td>45.21</td>\n",
       "      <td>78.400</td>\n",
       "      <td>7.68</td>\n",
       "      <td>1384.0</td>\n",
       "      <td>3.789185</td>\n",
       "    </tr>\n",
       "    <tr>\n",
       "      <th>131</th>\n",
       "      <td>Albania</td>\n",
       "      <td>1985</td>\n",
       "      <td>Europe</td>\n",
       "      <td>2966799.0</td>\n",
       "      <td>72.71</td>\n",
       "      <td>94.570</td>\n",
       "      <td>3.23</td>\n",
       "      <td>4267.0</td>\n",
       "      <td>11.682409</td>\n",
       "    </tr>\n",
       "    <tr>\n",
       "      <th>212</th>\n",
       "      <td>Algeria</td>\n",
       "      <td>1985</td>\n",
       "      <td>Africa</td>\n",
       "      <td>22565908.0</td>\n",
       "      <td>67.18</td>\n",
       "      <td>92.880</td>\n",
       "      <td>5.98</td>\n",
       "      <td>11030.0</td>\n",
       "      <td>30.198494</td>\n",
       "    </tr>\n",
       "    <tr>\n",
       "      <th>293</th>\n",
       "      <td>Angola</td>\n",
       "      <td>1985</td>\n",
       "      <td>Africa</td>\n",
       "      <td>9745209.0</td>\n",
       "      <td>47.50</td>\n",
       "      <td>77.170</td>\n",
       "      <td>7.21</td>\n",
       "      <td>4117.0</td>\n",
       "      <td>11.271732</td>\n",
       "    </tr>\n",
       "    <tr>\n",
       "      <th>374</th>\n",
       "      <td>Antigua and Barbuda</td>\n",
       "      <td>1985</td>\n",
       "      <td>America</td>\n",
       "      <td>65744.0</td>\n",
       "      <td>72.13</td>\n",
       "      <td>96.946</td>\n",
       "      <td>2.09</td>\n",
       "      <td>11383.0</td>\n",
       "      <td>31.164956</td>\n",
       "    </tr>\n",
       "  </tbody>\n",
       "</table>\n",
       "</div>"
      ],
      "text/plain": [
       "                 country  year   region  population  life_expectancy  \\\n",
       "50           Afghanistan  1985     Asia  11630498.0            45.21   \n",
       "131              Albania  1985   Europe   2966799.0            72.71   \n",
       "212              Algeria  1985   Africa  22565908.0            67.18   \n",
       "293               Angola  1985   Africa   9745209.0            47.50   \n",
       "374  Antigua and Barbuda  1985  America     65744.0            72.13   \n",
       "\n",
       "     age5_surviving  babies_per_woman  gdp_per_capita  gdp_per_day  \n",
       "50           78.400              7.68          1384.0     3.789185  \n",
       "131          94.570              3.23          4267.0    11.682409  \n",
       "212          92.880              5.98         11030.0    30.198494  \n",
       "293          77.170              7.21          4117.0    11.271732  \n",
       "374          96.946              2.09         11383.0    31.164956  "
      ]
     },
     "execution_count": 8,
     "metadata": {},
     "output_type": "execute_result"
    }
   ],
   "source": [
    "gdata.head()"
   ]
  },
  {
   "cell_type": "code",
   "execution_count": 9,
   "metadata": {},
   "outputs": [],
   "source": [
    "def sc(data):\n",
    "    return (1e-6 * data.population,  \n",
    "            data.region.map({\n",
    "                'Africa': 'skyblue', \n",
    "                'Europe': 'gold',\n",
    "                'America': 'palegreen',\n",
    "                'Asia': 'coral'\n",
    "    }))\n",
    "\n",
    "\n",
    "def plotdata(data=gdata):\n",
    "    size, colors = sc(data)\n",
    "    data.plot.scatter(\n",
    "        'age5_surviving',\n",
    "        'babies_per_woman',\n",
    "        c=colors,\n",
    "        s=size,\n",
    "        linewidths=0.5,\n",
    "        edgecolor='k',\n",
    "        alpha=0.5\n",
    "    )\n",
    "    \n",
    "\n",
    "def plotfit(fit, data=gdata):\n",
    "    plotdata(data)\n",
    "    size, colors = sc(data)\n",
    "    pp.scatter(\n",
    "        data.age5_surviving, \n",
    "        fit.predict(data),\n",
    "        c=colors,\n",
    "        s=30,\n",
    "        linewidths=0.5,\n",
    "        edgecolors='k',\n",
    "        marker='D'\n",
    "    )"
   ]
  },
  {
   "cell_type": "code",
   "execution_count": 38,
   "metadata": {},
   "outputs": [],
   "source": [
    "f_groupmeans = 'babies_per_woman ~ -1 + region'\n",
    "f_surviving  = 'babies_per_woman ~ -1 + region + age5_surviving'\n",
    "f_srp = 'babies_per_woman ~ -1 + region + age5_surviving:region + age5_surviving + population'\n",
    "\n"
   ]
  },
  {
   "cell_type": "code",
   "execution_count": 39,
   "metadata": {},
   "outputs": [],
   "source": [
    "shuffled = gdata.sample(len(gdata))"
   ]
  },
  {
   "cell_type": "code",
   "execution_count": 40,
   "metadata": {},
   "outputs": [],
   "source": [
    "training = shuffled.iloc[: len(gdata)//2]\n",
    "testing = shuffled.iloc[len(gdata)//2: ]"
   ]
  },
  {
   "cell_type": "code",
   "execution_count": 41,
   "metadata": {},
   "outputs": [],
   "source": [
    "surviving = smf.ols(f_surviving, data=training).fit()"
   ]
  },
  {
   "cell_type": "code",
   "execution_count": 42,
   "metadata": {
    "scrolled": false
   },
   "outputs": [
    {
     "data": {
      "image/png": "[encoded data removed]",
      "text/plain": [
       "<Figure size 432x288 with 1 Axes>"
      ]
     },
     "metadata": {
      "needs_background": "light"
     },
     "output_type": "display_data"
    }
   ],
   "source": [
    "plotfit(surviving, training)"
   ]
  },
  {
   "cell_type": "code",
   "execution_count": 43,
   "metadata": {},
   "outputs": [
    {
     "data": {
      "text/plain": [
       "1.0402031219362504"
      ]
     },
     "execution_count": 43,
     "metadata": {},
     "output_type": "execute_result"
    }
   ],
   "source": [
    "surviving.mse_resid"
   ]
  },
  {
   "cell_type": "code",
   "execution_count": 44,
   "metadata": {},
   "outputs": [
    {
     "data": {
      "image/png": "[encoded data removed]",
      "text/plain": [
       "<Figure size 432x288 with 1 Axes>"
      ]
     },
     "metadata": {
      "needs_background": "light"
     },
     "output_type": "display_data"
    }
   ],
   "source": [
    "plotfit(surviving, testing)"
   ]
  },
  {
   "cell_type": "code",
   "execution_count": 45,
   "metadata": {},
   "outputs": [
    {
     "data": {
      "text/plain": [
       "0.9366466946449069"
      ]
     },
     "execution_count": 45,
     "metadata": {},
     "output_type": "execute_result"
    }
   ],
   "source": [
    "resid = surviving.predict(testing) - testing.babies_per_woman\n",
    "\n",
    "df = len(testing) - surviving.df_model\n",
    "\n",
    "np.sum(resid**2) / df"
   ]
  },
  {
   "cell_type": "code",
   "execution_count": 50,
   "metadata": {},
   "outputs": [],
   "source": [
    "def cross_validate(data, formula, response, n=100):\n",
    "    ret = []\n",
    "    for _ in range(n):\n",
    "        shuffled = data.sample(len(data))\n",
    "        training = shuffled.iloc[: len(data)//2]\n",
    "        testing  = shuffled.iloc[len(data)//2: ]\n",
    "        trained  = smf.ols(formula, data=training).fit()\n",
    "        \n",
    "        resid = trained.predict(testing) - testing[response]\n",
    "        df = len(testing) - trained.df_model - 1\n",
    "        mse = np.sum(resid**2) / df \n",
    "        ret.append(mse)\n",
    "    return np.mean(ret)\n"
   ]
  },
  {
   "cell_type": "code",
   "execution_count": 51,
   "metadata": {
    "scrolled": true
   },
   "outputs": [
    {
     "data": {
      "text/plain": [
       "1.632808176700742"
      ]
     },
     "execution_count": 51,
     "metadata": {},
     "output_type": "execute_result"
    }
   ],
   "source": [
    "cross_validate(gdata, f_groupmeans, 'babies_per_woman')"
   ]
  },
  {
   "cell_type": "code",
   "execution_count": 52,
   "metadata": {},
   "outputs": [
    {
     "data": {
      "text/plain": [
       "1.0570281950403595"
      ]
     },
     "execution_count": 52,
     "metadata": {},
     "output_type": "execute_result"
    }
   ],
   "source": [
    "cross_validate(gdata, f_surviving, 'babies_per_woman')"
   ]
  },
  {
   "cell_type": "code",
   "execution_count": 53,
   "metadata": {},
   "outputs": [
    {
     "data": {
      "text/plain": [
       "1.1826654653962287"
      ]
     },
     "execution_count": 53,
     "metadata": {},
     "output_type": "execute_result"
    }
   ],
   "source": [
    "cross_validate(gdata, f_srp, 'babies_per_woman')"
   ]
  },
  {
   "cell_type": "code",
   "execution_count": null,
   "metadata": {},
   "outputs": [],
   "source": []
  }
 ],
 "metadata": {
  "kernelspec": {
   "display_name": "Python 3",
   "language": "python",
   "name": "python3"
  },
  "language_info": {
   "codemirror_mode": {
    "name": "ipython",
    "version": 3
   },
   "file_extension": ".py",
   "mimetype": "text/x-python",
   "name": "python",
   "nbconvert_exporter": "python",
   "pygments_lexer": "ipython3",
   "version": "3.8.1"
  }
 },
 "nbformat": 4,
 "nbformat_minor": 4
}
