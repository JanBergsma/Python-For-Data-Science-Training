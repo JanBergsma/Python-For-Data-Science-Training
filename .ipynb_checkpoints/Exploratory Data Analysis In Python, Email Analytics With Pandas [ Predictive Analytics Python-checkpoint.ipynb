{
 "cells": [
  {
   "cell_type": "markdown",
   "metadata": {},
   "source": [
    "# Exploratory Data Analysis In Python, Email Analytics With Pandas [ Predictive Analytics Python"
   ]
  },
  {
   "cell_type": "code",
   "execution_count": 1,
   "metadata": {},
   "outputs": [],
   "source": [
    "import numpy as np\n",
    "import scipy.stats\n",
    "import pandas as pd"
   ]
  },
  {
   "cell_type": "code",
   "execution_count": 2,
   "metadata": {},
   "outputs": [],
   "source": [
    "import matplotlib\n",
    "import matplotlib.pyplot as pp\n",
    "\n",
    "import pandas.plotting\n",
    "\n",
    "from IPython import display\n",
    "from ipywidgets import interact, widgets\n",
    "\n",
    "%matplotlib inline"
   ]
  },
  {
   "cell_type": "code",
   "execution_count": 3,
   "metadata": {},
   "outputs": [],
   "source": [
    "import re\n",
    "import mailbox\n",
    "import csv"
   ]
  },
  {
   "cell_type": "markdown",
   "metadata": {},
   "source": [
    "## How I converted my mailbox"
   ]
  },
  {
   "cell_type": "code",
   "execution_count": 4,
   "metadata": {},
   "outputs": [],
   "source": [
    "# example of reading an example mailbox\n",
    "mbox = mailbox.mbox('data/sample.mbox')"
   ]
  },
  {
   "cell_type": "code",
   "execution_count": 5,
   "metadata": {},
   "outputs": [
    {
     "data": {
      "text/plain": [
       "[0, 1, 2, 3, 4, 5, 6, 7, 8, 9, 10, 11, 12, 13, 14, 15]"
      ]
     },
     "execution_count": 5,
     "metadata": {},
     "output_type": "execute_result"
    }
   ],
   "source": [
    "mbox.keys() # columsn don't have name in the example!"
   ]
  },
  {
   "cell_type": "code",
   "execution_count": 6,
   "metadata": {},
   "outputs": [
    {
     "name": "stdout",
     "output_type": "stream",
     "text": [
      "From: A (zzz)\n",
      "      U\n",
      "      Thor\n",
      "      <a.u.thor@example.com> (Comment)\n",
      "Date: Fri, 9 Jun 2006 00:44:16 -0700\n",
      "Subject: [PATCH] a commit.\n",
      "\n",
      "Here is a patch from A U Thor.\n",
      "\n",
      "---\n",
      " foo |    2 +-\n",
      " 1 files changed, 1 insertions(+), 1 deletions(-)\n",
      "\n",
      "diff --git a/foo b/foo\n",
      "index 9123cdc..918dcf8 100644\n",
      "--- a/foo\n",
      "+++ b/foo\n",
      "@@ -1 +1 @@\n",
      "-Fri Jun  9 00:44:04 PDT 2006\n",
      "+Fri Jun  9 00:44:13 PDT 2006\n",
      "-- \n",
      "1.4.0.g6f2b\n",
      "\n",
      "From: A U Thor <a.u.thor@example.com>\n",
      "Date: Fri, 9 Jun 2006 00:44:16 -0700\n",
      "Subject: [PATCH] another patch\n",
      "\n",
      "Here is a patch from A U Thor.  This addresses the issue raised in the\n",
      "message:\n",
      "\n",
      "From: Nit Picker <nit.picker@example.net>\n",
      "Subject: foo is too old\n",
      "Message-Id: <nitpicker.12121212@example.net>\n",
      "\n",
      "Hopefully this would fix the problem stated there.\n",
      "\n",
      "\n",
      "I have included an extra blank line above, but it does not have to be\n",
      "stripped away here, along with the               \t\t   \n",
      "whitespaces at the end of the above line.  They are expected to be squashed\n",
      "when the message is made into a commit log by stripspace,\n",
      "Also, there are three blank lines after this paragraph,\n",
      "two truly blank and another full of spaces in between.\n",
      "\n",
      "            \n",
      "\n",
      "Hope this helps.\n",
      "\n",
      "---\n",
      " foo |    2 +-\n",
      " 1 files changed, 1 insertions(+), 1 deletions(-)\n",
      "\n",
      "diff --git a/foo b/foo\n",
      "index 9123cdc..918dcf8 100644\n",
      "--- a/foo\n",
      "+++ b/foo\n",
      "@@ -1 +1 @@\n",
      "-Fri Jun  9 00:44:04 PDT 2006\n",
      "+Fri Jun  9 00:44:13 PDT 2006\n",
      "-- \n",
      "1.4.0.g6f2b\n",
      "\n",
      "From: Junio C Hamano <junio@kernel.org>\n",
      "Date: Fri, 9 Jun 2006 00:44:16 -0700\n",
      "Subject: re: [PATCH] another patch\n",
      "\n",
      "From: A U Thor <a.u.thor@example.com>\n",
      "Subject: [PATCH] third patch\n",
      "\n",
      "Here is a patch from A U Thor.  This addresses the issue raised in the\n",
      "message:\n",
      "\n",
      "From: Nit Picker <nit.picker@example.net>\n",
      "Subject: foo is too old\n",
      "Message-Id: <nitpicker.12121212@example.net>\n",
      "\n",
      "Hopefully this would fix the problem stated there.\n",
      "\n",
      "---\n",
      " foo |    2 +-\n",
      " 1 files changed, 1 insertions(+), 1 deletions(-)\n",
      "\n",
      "diff --git a/foo b/foo\n",
      "index 9123cdc..918dcf8 100644\n",
      "--- a/foo\n",
      "+++ b/foo\n",
      "@@ -1 +1 @@\n",
      "-Fri Jun  9 00:44:04 PDT 2006\n",
      "+Fri Jun  9 00:44:13 PDT 2006\n",
      "-- \n",
      "1.4.0.g6f2b\n",
      "\n",
      "Path: news.gmane.org!not-for-mail\n",
      "Message-ID: <20050721.091036.01119516.yoshfuji@linux-ipv6.org>\n",
      "From: YOSHIFUJI Hideaki / =?ISO-2022-JP?B?GyRCNUhGIzFRTEAbKEI=?=\n",
      "\t<yoshfuji@linux-ipv6.org>\n",
      "Newsgroups: gmane.comp.version-control.git\n",
      "Subject: [PATCH 1/2] GIT: Try all addresses for given remote name\n",
      "Date: Thu, 21 Jul 2005 09:10:36 -0400 (EDT)\n",
      "Lines: 99\n",
      "Organization: USAGI/WIDE Project\n",
      "Approved: news@gmane.org\n",
      "NNTP-Posting-Host: main.gmane.org\n",
      "Mime-Version: 1.0\n",
      "Content-Type: Text/Plain; charset=us-ascii\n",
      "Content-Transfer-Encoding: 7bit\n",
      "X-Trace: sea.gmane.org 1121951434 29350 80.91.229.2 (21 Jul 2005 13:10:34 GMT)\n",
      "X-Complaints-To: usenet@sea.gmane.org\n",
      "NNTP-Posting-Date: Thu, 21 Jul 2005 13:10:34 +0000 (UTC)\n",
      "\n",
      "Hello.\n",
      "\n",
      "Try all addresses for given remote name until it succeeds.\n",
      "Also supports IPv6.\n",
      "\n",
      "Signed-of-by: Hideaki YOSHIFUJI <yoshfuji@linux-ipv6.org>\n",
      "\n",
      "diff --git a/connect.c b/connect.c\n",
      "--- a/connect.c\n",
      "+++ b/connect.c\n",
      "@@ -96,42 +96,57 @@ static enum protocol get_protocol(const \n",
      " \tdie(\"I don't handle protocol '%s'\", name);\n",
      " }\n",
      " \n",
      "-static void lookup_host(const char *host, struct sockaddr *in)\n",
      "-{\n",
      "-\tstruct addrinfo *res;\n",
      "-\tint ret;\n",
      "-\n",
      "-\tret = getaddrinfo(host, NULL, NULL, &res);\n",
      "-\tif (ret)\n",
      "-\t\tdie(\"Unable to look up %s (%s)\", host, gai_strerror(ret));\n",
      "-\t*in = *res->ai_addr;\n",
      "-\tfreeaddrinfo(res);\n",
      "-}\n",
      "+#define STR_(s)\t# s\n",
      "+#define STR(s)\tSTR_(s)\n",
      " \n",
      " static int git_tcp_connect(int fd[2], const char *prog, char *host, char *path)\n",
      " {\n",
      "-\tstruct sockaddr addr;\n",
      "-\tint port = DEFAULT_GIT_PORT, sockfd;\n",
      "-\tchar *colon;\n",
      "-\n",
      "-\tcolon = strchr(host, ':');\n",
      "-\tif (colon) {\n",
      "-\t\tchar *end;\n",
      "-\t\tunsigned long n = strtoul(colon+1, &end, 0);\n",
      "-\t\tif (colon[1] && !*end) {\n",
      "-\t\t\t*colon = 0;\n",
      "-\t\t\tport = n;\n",
      "+\tint sockfd = -1;\n",
      "+\tchar *colon, *end;\n",
      "+\tchar *port = STR(DEFAULT_GIT_PORT);\n",
      "+\tstruct addrinfo hints, *ai0, *ai;\n",
      "+\tint gai;\n",
      "+\n",
      "+\tif (host[0] == '[') {\n",
      "+\t\tend = strchr(host + 1, ']');\n",
      "+\t\tif (end) {\n",
      "+\t\t\t*end = 0;\n",
      "+\t\t\tend++;\n",
      "+\t\t\thost++;\n",
      "+\t\t} else\n",
      "+\t\t\tend = host;\n",
      "+\t} else\n",
      "+\t\tend = host;\n",
      "+\tcolon = strchr(end, ':');\n",
      "+\n",
      "+\tif (colon)\n",
      "+\t\tport = colon + 1;\n",
      "+\n",
      "+\tmemset(&hints, 0, sizeof(hints));\n",
      "+\thints.ai_socktype = SOCK_STREAM;\n",
      "+\thints.ai_protocol = IPPROTO_TCP;\n",
      "+\n",
      "+\tgai = getaddrinfo(host, port, &hints, &ai);\n",
      "+\tif (gai)\n",
      "+\t\tdie(\"Unable to look up %s (%s)\", host, gai_strerror(gai));\n",
      "+\n",
      "+\tfor (ai0 = ai; ai; ai = ai->ai_next) {\n",
      "+\t\tsockfd = socket(ai->ai_family, ai->ai_socktype, ai->ai_protocol);\n",
      "+\t\tif (sockfd < 0)\n",
      "+\t\t\tcontinue;\n",
      "+\t\tif (connect(sockfd, ai->ai_addr, ai->ai_addrlen) < 0) {\n",
      "+\t\t\tclose(sockfd);\n",
      "+\t\t\tsockfd = -1;\n",
      "+\t\t\tcontinue;\n",
      " \t\t}\n",
      "+\t\tbreak;\n",
      " \t}\n",
      " \n",
      "-\tlookup_host(host, &addr);\n",
      "-\t((struct sockaddr_in *)&addr)->sin_port = htons(port);\n",
      "+\tfreeaddrinfo(ai0);\n",
      " \n",
      "-\tsockfd = socket(PF_INET, SOCK_STREAM, IPPROTO_IP);\n",
      " \tif (sockfd < 0)\n",
      " \t\tdie(\"unable to create socket (%s)\", strerror(errno));\n",
      "-\tif (connect(sockfd, (void *)&addr, sizeof(addr)) < 0)\n",
      "-\t\tdie(\"unable to connect (%s)\", strerror(errno));\n",
      "+\n",
      " \tfd[0] = sockfd;\n",
      " \tfd[1] = sockfd;\n",
      " \tpacket_write(sockfd, \"%s %s\\n\", prog, path);\n",
      "\n",
      "-- \n",
      "YOSHIFUJI Hideaki @ USAGI Project  <yoshfuji@linux-ipv6.org>\n",
      "GPG-FP  : 9022 65EB 1ECF 3AD1 0BDF  80D8 4807 F894 E062 0EEA\n",
      "\n",
      "Path: news.gmane.org!not-for-mail\n",
      "Message-ID: <u5tacjjdpxq.fsf@lysator.liu.se>\n",
      "From: =?ISO8859-1?Q?David_K=E5gedal?= <davidk@lysator.liu.se>\n",
      "Newsgroups: gmane.comp.version-control.git\n",
      "Subject: [PATCH] Fixed two bugs in git-cvsimport-script.\n",
      "Date: Mon, 15 Aug 2005 20:18:25 +0200\n",
      "Lines: 83\n",
      "Approved: news@gmane.org\n",
      "NNTP-Posting-Host: main.gmane.org\n",
      "Mime-Version: 1.0\n",
      "Content-Type: text/plain; charset=ISO8859-1\n",
      "Content-Transfer-Encoding: QUOTED-PRINTABLE\n",
      "X-Trace: sea.gmane.org 1124130247 31839 80.91.229.2 (15 Aug 2005 18:24:07 GMT)\n",
      "X-Complaints-To: usenet@sea.gmane.org\n",
      "NNTP-Posting-Date: Mon, 15 Aug 2005 18:24:07 +0000 (UTC)\n",
      "Cc: \"Junio C. Hamano\" <junkio@cox.net>\n",
      "Original-X-From: git-owner@vger.kernel.org Mon Aug 15 20:24:05 2005\n",
      "\n",
      "The git-cvsimport-script had a copule of small bugs that prevented me\n",
      "from importing a big CVS repository.\n",
      "\n",
      "The first was that it didn't handle removed files with a multi-digit\n",
      "primary revision number.\n",
      "\n",
      "The second was that it was asking the CVS server for \"F\" messages,\n",
      "although they were not handled.\n",
      "\n",
      "I also updated the documentation for that script to correspond to\n",
      "actual flags.\n",
      "\n",
      "Signed-off-by: David K=E5gedal <davidk@lysator.liu.se>\n",
      "---\n",
      "\n",
      " Documentation/git-cvsimport-script.txt |    9 ++++++++-\n",
      " git-cvsimport-script                   |    4 ++--\n",
      " 2 files changed, 10 insertions(+), 3 deletions(-)\n",
      "\n",
      "50452f9c0c2df1f04d83a26266ba704b13861632\n",
      "diff --git a/Documentation/git-cvsimport-script.txt b/Documentation/git=\n",
      "-cvsimport-script.txt\n",
      "--- a/Documentation/git-cvsimport-script.txt\n",
      "+++ b/Documentation/git-cvsimport-script.txt\n",
      "@@ -29,6 +29,10 @@ OPTIONS\n",
      " \tcurrently, only the :local:, :ext: and :pserver: access methods=20\n",
      " \tare supported.\n",
      "=20\n",
      "+-C <target-dir>::\n",
      "+        The GIT repository to import to.  If the directory doesn't\n",
      "+        exist, it will be created.  Default is the current directory.\n",
      "+\n",
      " -i::\n",
      " \tImport-only: don't perform a checkout after importing.  This option\n",
      " \tensures the working directory and cache remain untouched and will\n",
      "@@ -44,7 +48,7 @@ OPTIONS\n",
      "=20\n",
      " -p <options-for-cvsps>::\n",
      " \tAdditional options for cvsps.\n",
      "-\tThe options '-x' and '-A' are implicit and should not be used here.\n",
      "+\tThe options '-u' and '-A' are implicit and should not be used here.\n",
      "=20\n",
      " \tIf you need to pass multiple options, separate them with a comma.\n",
      "=20\n",
      "@@ -57,6 +61,9 @@ OPTIONS\n",
      " -h::\n",
      " \tPrint a short usage message and exit.\n",
      "=20\n",
      "+-z <fuzz>::\n",
      "+        Pass the timestamp fuzz factor to cvsps.\n",
      "+\n",
      " OUTPUT\n",
      " ------\n",
      " If '-v' is specified, the script reports what it is doing.\n",
      "diff --git a/git-cvsimport-script b/git-cvsimport-script\n",
      "--- a/git-cvsimport-script\n",
      "+++ b/git-cvsimport-script\n",
      "@@ -190,7 +190,7 @@ sub conn {\n",
      " \t$self->{'socketo'}->write(\"Root $repo\\n\");\n",
      "=20\n",
      " \t# Trial and error says that this probably is the minimum set\n",
      "-\t$self->{'socketo'}->write(\"Valid-responses ok error Valid-requests Mo=\n",
      "de M Mbinary E F Checked-in Created Updated Merged Removed\\n\");\n",
      "+\t$self->{'socketo'}->write(\"Valid-responses ok error Valid-requests Mo=\n",
      "de M Mbinary E Checked-in Created Updated Merged Removed\\n\");\n",
      "=20\n",
      " \t$self->{'socketo'}->write(\"valid-requests\\n\");\n",
      " \t$self->{'socketo'}->flush();\n",
      "@@ -691,7 +691,7 @@ while(<CVS>) {\n",
      " \t\tunlink($tmpname);\n",
      " \t\tmy $mode =3D pmode($cvs->{'mode'});\n",
      " \t\tpush(@new,[$mode, $sha, $fn]); # may be resurrected!\n",
      "-\t} elsif($state =3D=3D 9 and /^\\s+(\\S+):\\d(?:\\.\\d+)+->(\\d(?:\\.\\d+)+)\\(=\n",
      "DEAD\\)\\s*$/) {\n",
      "+\t} elsif($state =3D=3D 9 and /^\\s+(\\S+):\\d+(?:\\.\\d+)+->(\\d+(?:\\.\\d+)+)=\n",
      "\\(DEAD\\)\\s*$/) {\n",
      " \t\tmy $fn =3D $1;\n",
      " \t\t$fn =3D~ s#^/+##;\n",
      " \t\tpush(@old,$fn);\n",
      "\n",
      "--=20\n",
      "David K=E5gedal\n",
      "-\n",
      "To unsubscribe from this list: send the line \"unsubscribe git\" in\n",
      "the body of a message to majordomo@vger.kernel.org\n",
      "More majordomo info at  http://vger.kernel.org/majordomo-info.html\n",
      "\n",
      "From: A U Thor <a.u.thor@example.com>\n",
      "References: <Pine.LNX.4.640.0001@woody.linux-foundation.org>\n",
      " <Pine.LNX.4.640.0002@woody.linux-foundation.org>\n",
      " <Pine.LNX.4.640.0003@woody.linux-foundation.org>\n",
      " <Pine.LNX.4.640.0004@woody.linux-foundation.org>\n",
      " <Pine.LNX.4.640.0005@woody.linux-foundation.org>\n",
      " <Pine.LNX.4.640.0006@woody.linux-foundation.org>\n",
      " <Pine.LNX.4.640.0007@woody.linux-foundation.org>\n",
      " <Pine.LNX.4.640.0008@woody.linux-foundation.org>\n",
      " <Pine.LNX.4.640.0009@woody.linux-foundation.org>\n",
      " <Pine.LNX.4.640.0010@woody.linux-foundation.org>\n",
      " <Pine.LNX.4.640.0011@woody.linux-foundation.org>\n",
      " <Pine.LNX.4.640.0012@woody.linux-foundation.org>\n",
      " <Pine.LNX.4.640.0013@woody.linux-foundation.org>\n",
      " <Pine.LNX.4.640.0014@woody.linux-foundation.org>\n",
      " <Pine.LNX.4.640.0015@woody.linux-foundation.org>\n",
      " <Pine.LNX.4.640.0016@woody.linux-foundation.org>\n",
      " <Pine.LNX.4.640.0017@woody.linux-foundation.org>\n",
      " <Pine.LNX.4.640.0018@woody.linux-foundation.org>\n",
      " <Pine.LNX.4.640.0019@woody.linux-foundation.org>\n",
      " <Pine.LNX.4.640.0020@woody.linux-foundation.org>\n",
      " <Pine.LNX.4.640.0021@woody.linux-foundation.org>\n",
      " <Pine.LNX.4.640.0022@woody.linux-foundation.org>\n",
      " <Pine.LNX.4.640.0023@woody.linux-foundation.org>\n",
      " <Pine.LNX.4.640.0024@woody.linux-foundation.org>\n",
      " <Pine.LNX.4.640.0025@woody.linux-foundation.org>\n",
      " <Pine.LNX.4.640.0026@woody.linux-foundation.org>\n",
      " <Pine.LNX.4.640.0027@woody.linux-foundation.org>\n",
      " <Pine.LNX.4.640.0028@woody.linux-foundation.org>\n",
      " <Pine.LNX.4.640.0029@woody.linux-foundation.org>\n",
      " <Pine.LNX.4.640.0030@woody.linux-foundation.org>\n",
      " <Pine.LNX.4.640.0031@woody.linux-foundation.org>\n",
      " <Pine.LNX.4.640.0032@woody.linux-foundation.org>\n",
      " <Pine.LNX.4.640.0033@woody.linux-foundation.org>\n",
      " <Pine.LNX.4.640.0034@woody.linux-foundation.org>\n",
      " <Pine.LNX.4.640.0035@woody.linux-foundation.org>\n",
      " <Pine.LNX.4.640.0036@woody.linux-foundation.org>\n",
      " <Pine.LNX.4.640.0037@woody.linux-foundation.org>\n",
      " <Pine.LNX.4.640.0038@woody.linux-foundation.org>\n",
      " <Pine.LNX.4.640.0039@woody.linux-foundation.org>\n",
      " <Pine.LNX.4.640.0040@woody.linux-foundation.org>\n",
      " <Pine.LNX.4.640.0041@woody.linux-foundation.org>\n",
      " <Pine.LNX.4.640.0042@woody.linux-foundation.org>\n",
      " <Pine.LNX.4.640.0043@woody.linux-foundation.org>\n",
      " <Pine.LNX.4.640.0044@woody.linux-foundation.org>\n",
      " <Pine.LNX.4.640.0045@woody.linux-foundation.org>\n",
      " <Pine.LNX.4.640.0046@woody.linux-foundation.org>\n",
      " <Pine.LNX.4.640.0047@woody.linux-foundation.org>\n",
      " <Pine.LNX.4.640.0048@woody.linux-foundation.org>\n",
      " <Pine.LNX.4.640.0049@woody.linux-foundation.org>\n",
      " <Pine.LNX.4.640.0050@woody.linux-foundation.org>\n",
      "Date: Fri, 9 Jun 2006 00:44:16 -0700\n",
      "Subject: [PATCH] a commit.\n",
      "\n",
      "Here is a patch from A U Thor.\n",
      "\n",
      "---\n",
      " foo |    2 +-\n",
      " 1 files changed, 1 insertions(+), 1 deletions(-)\n",
      "\n",
      "diff --git a/foo b/foo\n",
      "index 9123cdc..918dcf8 100644\n",
      "--- a/foo\n",
      "+++ b/foo\n",
      "@@ -1 +1 @@\n",
      "-Fri Jun  9 00:44:04 PDT 2006\n",
      "+Fri Jun  9 00:44:13 PDT 2006\n",
      "-- \n",
      "1.4.0.g6f2b\n",
      "\n",
      "From: A U Thor <a.u.thor@example.com>\n",
      "Date: Fri, 9 Jun 2006 00:44:16 -0700\n",
      "Subject: [PATCH] another patch\n",
      "\n",
      "Here is an empty patch from A U Thor.\n",
      "\n",
      "From: Junio C Hamano <junio@kernel.org>\n",
      "Date: Fri, 9 Jun 2006 00:44:16 -0700\n",
      "Subject: re: [PATCH] another patch\n",
      "\n",
      "From: A U Thor <a.u.thor@example.com>\n",
      "Subject: [PATCH] another patch\n",
      ">Here is an empty patch from A U Thor.\n",
      "\n",
      "Hey you forgot the patch!\n",
      "\n",
      "From: A U Thor <a.u.thor@example.com>\n",
      "Date: Mon, 17 Sep 2001 00:00:00 +0900\n",
      "Mime-Version: 1.0\n",
      "Content-Type: Text/Plain; charset=us-ascii\n",
      "Content-Transfer-Encoding: Quoted-Printable\n",
      "\n",
      "=0A=0AFrom: F U Bar <f.u.bar@example.com>\n",
      "Subject: [PATCH] updates=0A=0AThis is to fix diff-format documentation.\n",
      "\n",
      "diff --git a/Documentation/diff-format.txt b/Documentation/diff-format.txt\n",
      "index b426a14..97756ec 100644\n",
      "--- a/Documentation/diff-format.txt\n",
      "+++ b/Documentation/diff-format.txt\n",
      "@@ -81,7 +81,7 @@ The \"diff\" formatting options can be customized via the\n",
      " environment variable 'GIT_DIFF_OPTS'.  For example, if you\n",
      " prefer context diff:\n",
      "=20\n",
      "-      GIT_DIFF_OPTS=3D-c git-diff-index -p $(cat .git/HEAD)\n",
      "+      GIT_DIFF_OPTS=3D-c git-diff-index -p HEAD\n",
      "=20\n",
      "=20\n",
      " 2. When the environment variable 'GIT_EXTERNAL_DIFF' is set, the\n",
      "\n",
      "From: =?UTF-8?q?Lukas=20Sandstr=C3=B6m?= <lukass@etek.chalmers.se>\n",
      "Date: Thu, 10 Jul 2008 23:41:33 +0200\n",
      "Subject: Re: discussion that lead to this patch\n",
      "MIME-Version: 1.0\n",
      "Content-Type: text/plain; charset=\"utf-8\"\n",
      "Content-Transfer-Encoding: base64\n",
      "\n",
      "W1BBVENIXSBnaXQtbWFpbGluZm86IEZpeCBnZXR0aW5nIHRoZSBzdWJqZWN0IGZyb20gdGhlIGJv\n",
      "ZHkKCiJTdWJqZWN0OiAiIGlzbid0IGluIHRoZSBzdGF0aWMgYXJyYXkgImhlYWRlciIsIGFuZCB0\n",
      "aHVzCm1lbWNtcCgiU3ViamVjdDogIiwgaGVhZGVyW2ldLCA3KSB3aWxsIG5ldmVyIG1hdGNoLgoK\n",
      "U2lnbmVkLW9mZi1ieTogTHVrYXMgU2FuZHN0csO2bSA8bHVrYXNzQGV0ZWsuY2hhbG1lcnMuc2U+\n",
      "ClNpZ25lZC1vZmYtYnk6IEp1bmlvIEMgSGFtYW5vIDxnaXRzdGVyQHBvYm94LmNvbT4KLS0tCiBi\n",
      "dWlsdGluLW1haWxpbmZvLmMgfCAgICAyICstCiAxIGZpbGVzIGNoYW5nZWQsIDEgaW5zZXJ0aW9u\n",
      "cygrKSwgMSBkZWxldGlvbnMoLSkKCmRpZmYgLS1naXQgYS9idWlsdGluLW1haWxpbmZvLmMgYi9i\n",
      "dWlsdGluLW1haWxpbmZvLmMKaW5kZXggOTYyYWEzNC4uMmQxNTIwZiAxMDA2NDQKLS0tIGEvYnVp\n",
      "bHRpbi1tYWlsaW5mby5jCisrKyBiL2J1aWx0aW4tbWFpbGluZm8uYwpAQCAtMzM0LDcgKzMzNCw3\n",
      "IEBAIHN0YXRpYyBpbnQgY2hlY2tfaGVhZGVyKGNoYXIgKmxpbmUsIHVuc2lnbmVkIGxpbmVzaXpl\n",
      "LCBjaGFyICoqaGRyX2RhdGEsIGludCBvdmVyCiAJCXJldHVybiAxOwogCWlmICghbWVtY21wKCJb\n",
      "UEFUQ0hdIiwgbGluZSwgNykgJiYgaXNzcGFjZShsaW5lWzddKSkgewogCQlmb3IgKGkgPSAwOyBo\n",
      "ZWFkZXJbaV07IGkrKykgewotCQkJaWYgKCFtZW1jbXAoIlN1YmplY3Q6ICIsIGhlYWRlcltpXSwg\n",
      "OSkpIHsKKwkJCWlmICghbWVtY21wKCJTdWJqZWN0IiwgaGVhZGVyW2ldLCA3KSkgewogCQkJCWlm\n",
      "ICghIGhhbmRsZV9oZWFkZXIobGluZSwgaGRyX2RhdGFbaV0sIDApKSB7CiAJCQkJCXJldHVybiAx\n",
      "OwogCQkJCX0KLS0gCjEuNS42LjIuNDU1LmcxZWZiMgo=\n",
      "\n",
      "Date: Fri, 8 Aug 2008 13:08:37 +0200 (CEST)\n",
      "From: A U Thor <a.u.thor@example.com>\n",
      "Subject: [PATCH 3/3 v2] Xyzzy\n",
      "MIME-Version: 1.0\n",
      "Content-Type: multipart/mixed; boundary=\"=-=-=\"\n",
      "\n",
      "--=-=-=\n",
      "Content-Type: text/plain; charset=ISO8859-15\n",
      "Content-Transfer-Encoding: quoted-printable\n",
      "\n",
      "Here comes a commit log message, and\n",
      "its second line is here.\n",
      "---\n",
      " builtin-mailinfo.c  |    4 ++--\n",
      "\n",
      "diff --git a/builtin-mailinfo.c b/builtin-mailinfo.c\n",
      "index 3e5fe51..aabfe5c 100644\n",
      "--- a/builtin-mailinfo.c\n",
      "+++ b/builtin-mailinfo.c\n",
      "@@ -758,8 +758,8 @@ static void handle_body(void)\n",
      " \t\t/* process any boundary lines */\n",
      " \t\tif (*content_top && is_multipart_boundary(&line)) {\n",
      " \t\t\t/* flush any leftover */\n",
      "-\t\t\tif (line.len)\n",
      "-\t\t\t\thandle_filter(&line);\n",
      "+\t\t\tif (prev.len)\n",
      "+\t\t\t\thandle_filter(&prev);\n",
      "=20\n",
      " \t\t\tif (!handle_boundary())\n",
      " \t\t\t\tgoto handle_body_out;\n",
      "--=20\n",
      "1.6.0.rc2\n",
      "\n",
      "--=-=-=--\n",
      "\n",
      "From: Dmitriy Blinov <bda@mnsspb.ru>\n",
      "To: navy-patches@dinar.mns.mnsspb.ru\n",
      "Date: Wed, 12 Nov 2008 17:54:41 +0300\n",
      "Message-Id: <1226501681-24923-1-git-send-email-bda@mnsspb.ru>\n",
      "X-Mailer: git-send-email 1.5.6.5\n",
      "MIME-Version: 1.0\n",
      "Content-Type: text/plain; charset=\"utf-8\"\n",
      "Content-Transfer-Encoding: base64\n",
      "Subject: [Navy-patches] [PATCH]\n",
      "\t=?utf-8?b?0JjQt9C80LXQvdGR0L0g0YHQv9C40YHQvtC6INC/0LA=?=\n",
      "\t=?utf-8?b?0LrQtdGC0L7QsiDQvdC10L7QsdGF0L7QtNC40LzRi9GFINC00LvRjyA=?=\n",
      "\t=?utf-8?b?0YHQsdC+0YDQutC4?=\n",
      "\n",
      "dGV4dGxpdmUtKiDQuNGB0L/RgNCw0LLQu9C10L3RiyDQvdCwIHRleGxpdmUtKgpkb2N1dGlscyDQ\n",
      "t9Cw0LzQtdC90ZHQvSDQvdCwIHB5dGhvbi1kb2N1dGlscwoK0JTQtdC50YHRgtCy0LjRgtC10LvR\n",
      "jNC90L4sINC+0LrQsNC30LDQu9C+0YHRjCwg0YfRgtC+IHJlc3Qyd2ViINCy0YvRgtGP0LPQuNCy\n",
      "0LDQtdGCINC30LAg0YHQvtCx0L7QuQpweXRob24tZG9jdXRpbHMuINCSINGC0L4g0LLRgNC10LzR\n",
      "jyDQutCw0Log0YHQsNC8IHJlc3Qyd2ViINC90LUg0L3Rg9C20LXQvS4KClNpZ25lZC1vZmYtYnk6\n",
      "IERtaXRyaXkgQmxpbm92IDxiZGFAbW5zc3BiLnJ1PgotLS0KIGhvd3RvL2J1aWxkX25hdnkudHh0\n",
      "IHwgICAgNiArKystLS0KIDEgZmlsZXMgY2hhbmdlZCwgMyBpbnNlcnRpb25zKCspLCAzIGRlbGV0\n",
      "aW9ucygtKQoKZGlmZiAtLWdpdCBhL2hvd3RvL2J1aWxkX25hdnkudHh0IGIvaG93dG8vYnVpbGRf\n",
      "bmF2eS50eHQKaW5kZXggM2ZkM2FmYi4uMGVlODA3ZSAxMDA2NDQKLS0tIGEvaG93dG8vYnVpbGRf\n",
      "bmF2eS50eHQKKysrIGIvaG93dG8vYnVpbGRfbmF2eS50eHQKQEAgLTExOSw4ICsxMTksOCBAQAog\n",
      "ICAgLSBsaWJ4di1kZXYKICAgIC0gbGlidXNwbGFzaC1kZXYKICAgIC0gbGF0ZXgtbWFrZQotICAg\n",
      "LSB0ZXh0bGl2ZS1sYW5nLWN5cmlsbGljCi0gICAtIHRleHRsaXZlLWxhdGV4LWV4dHJhCisgICAt\n",
      "IHRleGxpdmUtbGFuZy1jeXJpbGxpYworICAgLSB0ZXhsaXZlLWxhdGV4LWV4dHJhCiAgICAtIGRp\n",
      "YQogICAgLSBweXRob24tcHlyZXgKICAgIC0gbGlidG9vbApAQCAtMTI4LDcgKzEyOCw3IEBACiAg\n",
      "ICAtIHNveAogICAgLSBjeXRob24KICAgIC0gaW1hZ2VtYWdpY2sKLSAgIC0gZG9jdXRpbHMKKyAg\n",
      "IC0gcHl0aG9uLWRvY3V0aWxzCiAKICMuINC90LAg0LzQsNGI0LjQvdC1IGRpbmFyOiDQtNC+0LHQ\n",
      "sNCy0LjRgtGMINGB0LLQvtC5INC+0YLQutGA0YvRgtGL0Lkgc3NoLdC60LvRjtGHINCyIGF1dGhv\n",
      "cml6ZWRfa2V5czIg0L/QvtC70YzQt9C+0LLQsNGC0LXQu9GPIGRkZXYKICMuINC90LAg0YHQstC+\n",
      "0LXQuSDQvNCw0YjQuNC90LU6INC+0YLRgNC10LTQsNC60YLQuNGA0L7QstCw0YLRjCAvZXRjL3N1\n",
      "ZG9lcnMgKNC60L7QvNCw0L3QtNCwIGBgdmlzdWRvYGApINC/0YDQuNC80LXRgNC90L4g0YHQu9C1\n",
      "0LTRg9GO0YnQuNC8INC+0LHRgNCw0LfQvtC8OjoKLS0gCjEuNS42LjUK\n",
      "\n",
      "From: <a.u.thor@example.com> (A U Thor)\n",
      "Date: Fri, 9 Jun 2006 00:44:16 -0700\n",
      "Subject: [PATCH] a patch\n",
      "\n",
      "\n",
      "From: Junio Hamano <junkio@cox.net>\n",
      "Date: Thu, 20 Aug 2009 17:18:22 -0700\n",
      "Subject: Why doesn't git-am does not like >8 scissors mark?\n",
      "\n",
      "Subject: [PATCH] BLAH ONE\n",
      "\n",
      "In real life, we will see a discussion that inspired this patch\n",
      "discussing related and unrelated things around >8 scissors mark\n",
      "in this part of the message.\n",
      "\n",
      "Subject: [PATCH] BLAH TWO\n",
      "\n",
      "And then we will see the scissors.\n",
      "\n",
      " This line is not a scissors mark -- >8 -- but talks about it.\n",
      " - - >8 - - please remove everything above this line - - >8 - -\n",
      "\n",
      "Subject: [PATCH] Teach mailinfo to ignore everything before -- >8 -- mark\n",
      "From: Junio C Hamano <gitster@pobox.com>\n",
      "\n",
      "This teaches mailinfo the scissors -- >8 -- mark; the command ignores\n",
      "everything before it in the message body.\n",
      "\n",
      "Signed-off-by: Junio C Hamano <gitster@pobox.com>\n",
      "---\n",
      " builtin-mailinfo.c |   37 ++++++++++++++++++++++++++++++++++++-\n",
      " 1 files changed, 36 insertions(+), 1 deletions(-)\n",
      "\n",
      "diff --git a/builtin-mailinfo.c b/builtin-mailinfo.c\n",
      "index b0b5d8f..461c47e 100644\n",
      "--- a/builtin-mailinfo.c\n",
      "+++ b/builtin-mailinfo.c\n",
      "@@ -712,6 +712,34 @@ static inline int patchbreak(const struct strbuf *line)\n",
      " \treturn 0;\n",
      " }\n",
      " \n",
      "+static int scissors(const struct strbuf *line)\n",
      "+{\n",
      "+\tsize_t i, len = line->len;\n",
      "+\tint scissors_dashes_seen = 0;\n",
      "+\tconst char *buf = line->buf;\n",
      "+\n",
      "+\tfor (i = 0; i < len; i++) {\n",
      "+\t\tif (isspace(buf[i]))\n",
      "+\t\t\tcontinue;\n",
      "+\t\tif (buf[i] == '-') {\n",
      "+\t\t\tscissors_dashes_seen |= 02;\n",
      "+\t\t\tcontinue;\n",
      "+\t\t}\n",
      "+\t\tif (i + 1 < len && !memcmp(buf + i, \">8\", 2)) {\n",
      "+\t\t\tscissors_dashes_seen |= 01;\n",
      "+\t\t\ti++;\n",
      "+\t\t\tcontinue;\n",
      "+\t\t}\n",
      "+\t\tif (i + 7 < len && !memcmp(buf + i, \"cut here\", 8)) {\n",
      "+\t\t\ti += 7;\n",
      "+\t\t\tcontinue;\n",
      "+\t\t}\n",
      "+\t\t/* everything else --- not scissors */\n",
      "+\t\tbreak;\n",
      "+\t}\n",
      "+\treturn scissors_dashes_seen == 03;\n",
      "+}\n",
      "+\n",
      " static int handle_commit_msg(struct strbuf *line)\n",
      " {\n",
      " \tstatic int still_looking = 1;\n",
      "@@ -723,10 +751,17 @@ static int handle_commit_msg(struct strbuf *line)\n",
      " \t\tstrbuf_ltrim(line);\n",
      " \t\tif (!line->len)\n",
      " \t\t\treturn 0;\n",
      "-\t\tif ((still_looking = check_header(line, s_hdr_data, 0)) != 0)\n",
      "+\t\tstill_looking = check_header(line, s_hdr_data, 0);\n",
      "+\t\tif (still_looking)\n",
      " \t\t\treturn 0;\n",
      " \t}\n",
      " \n",
      "+\tif (scissors(line)) {\n",
      "+\t\tfseek(cmitmsg, 0L, SEEK_SET);\n",
      "+\t\tstill_looking = 1;\n",
      "+\t\treturn 0;\n",
      "+\t}\n",
      "+\n",
      " \t/* normalize the log message to UTF-8. */\n",
      " \tif (metainfo_charset)\n",
      " \t\tconvert_to_utf8(line, charset.buf);\n",
      "-- \n",
      "1.6.4.1\n",
      "\n",
      "From: A U Thor <a.u.thor@example.com>\n",
      "Subject: check bogus body header (from)\n",
      "Date: Fri, 9 Jun 2006 00:44:16 -0700\n",
      "\n",
      "From: bogosity\n",
      "  - a list\n",
      "  - of stuff\n",
      "---\n",
      "diff --git a/foo b/foo\n",
      "index e69de29..d95f3ad 100644\n",
      "--- a/foo\n",
      "+++ b/foo\n",
      "@@ -0,0 +1 @@\n",
      "+content\n",
      "\n",
      "From: A U Thor <a.u.thor@example.com>\n",
      "Subject: check bogus body header (date)\n",
      "Date: Fri, 9 Jun 2006 00:44:16 -0700\n",
      "\n",
      "Date: bogus\n",
      "\n",
      "and some content\n",
      "\n",
      "---\n",
      "diff --git a/foo b/foo\n",
      "index e69de29..d95f3ad 100644\n",
      "--- a/foo\n",
      "+++ b/foo\n",
      "@@ -0,0 +1 @@\n",
      "+content\n",
      "\n"
     ]
    }
   ],
   "source": [
    "for message in mbox.values():\n",
    "    print(message)"
   ]
  },
  {
   "cell_type": "markdown",
   "metadata": {},
   "source": [
    "## Get Started"
   ]
  },
  {
   "cell_type": "code",
   "execution_count": 7,
   "metadata": {},
   "outputs": [],
   "source": [
    "messages = pd.read_csv('data/mbox-anonymized.xls')"
   ]
  },
  {
   "cell_type": "code",
   "execution_count": 8,
   "metadata": {},
   "outputs": [
    {
     "data": {
      "text/html": [
       "<div>\n",
       "<style scoped>\n",
       "    .dataframe tbody tr th:only-of-type {\n",
       "        vertical-align: middle;\n",
       "    }\n",
       "\n",
       "    .dataframe tbody tr th {\n",
       "        vertical-align: top;\n",
       "    }\n",
       "\n",
       "    .dataframe thead th {\n",
       "        text-align: right;\n",
       "    }\n",
       "</style>\n",
       "<table border=\"1\" class=\"dataframe\">\n",
       "  <thead>\n",
       "    <tr style=\"text-align: right;\">\n",
       "      <th></th>\n",
       "      <th>subject</th>\n",
       "      <th>from</th>\n",
       "      <th>to</th>\n",
       "      <th>date</th>\n",
       "    </tr>\n",
       "  </thead>\n",
       "  <tbody>\n",
       "    <tr>\n",
       "      <th>0</th>\n",
       "      <td>Why control quickly exactly capital.</td>\n",
       "      <td>\"Mian Saad, Razaq (335S)\" &lt;Razaq.Mian Saad@jum...</td>\n",
       "      <td>\"Trevor Charles\" &lt;zrodriguez@hotmail.com&gt;</td>\n",
       "      <td>Mon, 27 Nov 2017 14:18:46 -0800</td>\n",
       "    </tr>\n",
       "    <tr>\n",
       "      <th>1</th>\n",
       "      <td>Work evidence from really threat sign store see.</td>\n",
       "      <td>Razaq Mian Saad &lt;Razaq.Mian Saad@jumber.gov&gt;</td>\n",
       "      <td>\"Heather Hernandez\" &lt;patriciagarcia@garcia-car...</td>\n",
       "      <td>Mon, 26 Mar 2018 18:38:16 -0700</td>\n",
       "    </tr>\n",
       "    <tr>\n",
       "      <th>2</th>\n",
       "      <td>Lot where answer the law person.</td>\n",
       "      <td>\"Mian Saad, Razaq (335S)\" &lt;Razaq.Mian Saad@jum...</td>\n",
       "      <td>Bryce Dudley &lt;hailey63@frazier.com&gt;</td>\n",
       "      <td>Tue, 13 Feb 2018 22:54:50 +0000</td>\n",
       "    </tr>\n",
       "    <tr>\n",
       "      <th>3</th>\n",
       "      <td>Difference hotel yard.</td>\n",
       "      <td>\"Mian Saad, Razaq (335S)\" &lt;Razaq.Mian Saad@jum...</td>\n",
       "      <td>Kathryn Mathis &lt;josephrebecca@grimes.com&gt;</td>\n",
       "      <td>Fri, 26 Jan 2018 11:40:04 -0800</td>\n",
       "    </tr>\n",
       "    <tr>\n",
       "      <th>4</th>\n",
       "      <td>Long level mission energy candidate.</td>\n",
       "      <td>\"Mian Saad, Razaq (335S)\" &lt;Razaq.Mian Saad@jum...</td>\n",
       "      <td>\"Angela Mendoza\" &lt;rkhan@yahoo.com&gt;</td>\n",
       "      <td>Tue, 31 Oct 2017 00:13:00 +0000</td>\n",
       "    </tr>\n",
       "  </tbody>\n",
       "</table>\n",
       "</div>"
      ],
      "text/plain": [
       "                                            subject  \\\n",
       "0              Why control quickly exactly capital.   \n",
       "1  Work evidence from really threat sign store see.   \n",
       "2                  Lot where answer the law person.   \n",
       "3                            Difference hotel yard.   \n",
       "4              Long level mission energy candidate.   \n",
       "\n",
       "                                                from  \\\n",
       "0  \"Mian Saad, Razaq (335S)\" <Razaq.Mian Saad@jum...   \n",
       "1       Razaq Mian Saad <Razaq.Mian Saad@jumber.gov>   \n",
       "2  \"Mian Saad, Razaq (335S)\" <Razaq.Mian Saad@jum...   \n",
       "3  \"Mian Saad, Razaq (335S)\" <Razaq.Mian Saad@jum...   \n",
       "4  \"Mian Saad, Razaq (335S)\" <Razaq.Mian Saad@jum...   \n",
       "\n",
       "                                                  to  \\\n",
       "0          \"Trevor Charles\" <zrodriguez@hotmail.com>   \n",
       "1  \"Heather Hernandez\" <patriciagarcia@garcia-car...   \n",
       "2                Bryce Dudley <hailey63@frazier.com>   \n",
       "3          Kathryn Mathis <josephrebecca@grimes.com>   \n",
       "4                 \"Angela Mendoza\" <rkhan@yahoo.com>   \n",
       "\n",
       "                              date  \n",
       "0  Mon, 27 Nov 2017 14:18:46 -0800  \n",
       "1  Mon, 26 Mar 2018 18:38:16 -0700  \n",
       "2  Tue, 13 Feb 2018 22:54:50 +0000  \n",
       "3  Fri, 26 Jan 2018 11:40:04 -0800  \n",
       "4  Tue, 31 Oct 2017 00:13:00 +0000  "
      ]
     },
     "execution_count": 8,
     "metadata": {},
     "output_type": "execute_result"
    }
   ],
   "source": [
    "messages.head()"
   ]
  },
  {
   "cell_type": "code",
   "execution_count": 9,
   "metadata": {},
   "outputs": [
    {
     "data": {
      "text/plain": [
       "'\"Mian Saad, Razaq (335S)\" <Razaq.Mian Saad@jumber.gov>'"
      ]
     },
     "execution_count": 9,
     "metadata": {},
     "output_type": "execute_result"
    }
   ],
   "source": [
    "messages['from'][0]"
   ]
  },
  {
   "cell_type": "code",
   "execution_count": 10,
   "metadata": {},
   "outputs": [
    {
     "data": {
      "text/plain": [
       "'<Razaq.Mian Saad@jumber.gov>'"
      ]
     },
     "execution_count": 10,
     "metadata": {},
     "output_type": "execute_result"
    }
   ],
   "source": [
    "re.search(r'<(.+)>', messages['from'][0]).group(0)"
   ]
  },
  {
   "cell_type": "code",
   "execution_count": 11,
   "metadata": {},
   "outputs": [
    {
     "data": {
      "text/plain": [
       "'Razaq.Mian Saad@jumber.gov'"
      ]
     },
     "execution_count": 11,
     "metadata": {},
     "output_type": "execute_result"
    }
   ],
   "source": [
    "re.search(r'<(.+)>', messages['from'][0]).group(1)"
   ]
  },
  {
   "cell_type": "code",
   "execution_count": 12,
   "metadata": {},
   "outputs": [
    {
     "ename": "AttributeError",
     "evalue": "'NoneType' object has no attribute 'group'",
     "output_type": "error",
     "traceback": [
      "\u001b[0;31m---------------------------------------------------------------------------\u001b[0m",
      "\u001b[0;31mAttributeError\u001b[0m                            Traceback (most recent call last)",
      "\u001b[0;32m<ipython-input-12-fd9cfad71100>\u001b[0m in \u001b[0;36m<module>\u001b[0;34m\u001b[0m\n\u001b[0;32m----> 1\u001b[0;31m \u001b[0mre\u001b[0m\u001b[0;34m.\u001b[0m\u001b[0msearch\u001b[0m\u001b[0;34m(\u001b[0m\u001b[0;34mr'<(.+)>'\u001b[0m\u001b[0;34m,\u001b[0m \u001b[0;34m'Razaq.Mian Saad@jumber.gov'\u001b[0m\u001b[0;34m)\u001b[0m\u001b[0;34m.\u001b[0m\u001b[0mgroup\u001b[0m\u001b[0;34m(\u001b[0m\u001b[0;36m0\u001b[0m\u001b[0;34m)\u001b[0m\u001b[0;34m\u001b[0m\u001b[0;34m\u001b[0m\u001b[0m\n\u001b[0m",
      "\u001b[0;31mAttributeError\u001b[0m: 'NoneType' object has no attribute 'group'"
     ]
    }
   ],
   "source": [
    "re.search(r'<(.+)>', 'Razaq.Mian Saad@jumber.gov').group(0)"
   ]
  },
  {
   "cell_type": "code",
   "execution_count": 13,
   "metadata": {},
   "outputs": [],
   "source": [
    "def clean_adress(raw):\n",
    "    match = re.search(r'<(.+)>', raw)\n",
    "    return match.group(1) if match else raw"
   ]
  },
  {
   "cell_type": "code",
   "execution_count": 14,
   "metadata": {},
   "outputs": [
    {
     "data": {
      "text/plain": [
       "'Razaq.Mian Saad@jumber.gov'"
      ]
     },
     "execution_count": 14,
     "metadata": {},
     "output_type": "execute_result"
    }
   ],
   "source": [
    "clean_adress(messages['from'][0])"
   ]
  },
  {
   "cell_type": "code",
   "execution_count": 15,
   "metadata": {},
   "outputs": [
    {
     "ename": "TypeError",
     "evalue": "expected string or bytes-like object",
     "output_type": "error",
     "traceback": [
      "\u001b[0;31m---------------------------------------------------------------------------\u001b[0m",
      "\u001b[0;31mTypeError\u001b[0m                                 Traceback (most recent call last)",
      "\u001b[0;32m<ipython-input-15-4c31de578e77>\u001b[0m in \u001b[0;36m<module>\u001b[0;34m\u001b[0m\n\u001b[0;32m----> 1\u001b[0;31m \u001b[0mmessages\u001b[0m\u001b[0;34m[\u001b[0m\u001b[0;34m'from'\u001b[0m\u001b[0;34m]\u001b[0m \u001b[0;34m=\u001b[0m \u001b[0mmessages\u001b[0m\u001b[0;34m[\u001b[0m\u001b[0;34m'from'\u001b[0m\u001b[0;34m]\u001b[0m\u001b[0;34m.\u001b[0m\u001b[0mapply\u001b[0m\u001b[0;34m(\u001b[0m\u001b[0mclean_adress\u001b[0m\u001b[0;34m)\u001b[0m\u001b[0;34m\u001b[0m\u001b[0;34m\u001b[0m\u001b[0m\n\u001b[0m",
      "\u001b[0;32m~/.local/share/virtualenvs/Python-For-Data-Science-Training-dLEhGehk/lib/python3.8/site-packages/pandas/core/series.py\u001b[0m in \u001b[0;36mapply\u001b[0;34m(self, func, convert_dtype, args, **kwds)\u001b[0m\n\u001b[1;32m   4043\u001b[0m             \u001b[0;32melse\u001b[0m\u001b[0;34m:\u001b[0m\u001b[0;34m\u001b[0m\u001b[0;34m\u001b[0m\u001b[0m\n\u001b[1;32m   4044\u001b[0m                 \u001b[0mvalues\u001b[0m \u001b[0;34m=\u001b[0m \u001b[0mself\u001b[0m\u001b[0;34m.\u001b[0m\u001b[0mastype\u001b[0m\u001b[0;34m(\u001b[0m\u001b[0mobject\u001b[0m\u001b[0;34m)\u001b[0m\u001b[0;34m.\u001b[0m\u001b[0mvalues\u001b[0m\u001b[0;34m\u001b[0m\u001b[0;34m\u001b[0m\u001b[0m\n\u001b[0;32m-> 4045\u001b[0;31m                 \u001b[0mmapped\u001b[0m \u001b[0;34m=\u001b[0m \u001b[0mlib\u001b[0m\u001b[0;34m.\u001b[0m\u001b[0mmap_infer\u001b[0m\u001b[0;34m(\u001b[0m\u001b[0mvalues\u001b[0m\u001b[0;34m,\u001b[0m \u001b[0mf\u001b[0m\u001b[0;34m,\u001b[0m \u001b[0mconvert\u001b[0m\u001b[0;34m=\u001b[0m\u001b[0mconvert_dtype\u001b[0m\u001b[0;34m)\u001b[0m\u001b[0;34m\u001b[0m\u001b[0;34m\u001b[0m\u001b[0m\n\u001b[0m\u001b[1;32m   4046\u001b[0m \u001b[0;34m\u001b[0m\u001b[0m\n\u001b[1;32m   4047\u001b[0m         \u001b[0;32mif\u001b[0m \u001b[0mlen\u001b[0m\u001b[0;34m(\u001b[0m\u001b[0mmapped\u001b[0m\u001b[0;34m)\u001b[0m \u001b[0;32mand\u001b[0m \u001b[0misinstance\u001b[0m\u001b[0;34m(\u001b[0m\u001b[0mmapped\u001b[0m\u001b[0;34m[\u001b[0m\u001b[0;36m0\u001b[0m\u001b[0;34m]\u001b[0m\u001b[0;34m,\u001b[0m \u001b[0mSeries\u001b[0m\u001b[0;34m)\u001b[0m\u001b[0;34m:\u001b[0m\u001b[0;34m\u001b[0m\u001b[0;34m\u001b[0m\u001b[0m\n",
      "\u001b[0;32mpandas/_libs/lib.pyx\u001b[0m in \u001b[0;36mpandas._libs.lib.map_infer\u001b[0;34m()\u001b[0m\n",
      "\u001b[0;32m<ipython-input-13-96263578af24>\u001b[0m in \u001b[0;36mclean_adress\u001b[0;34m(raw)\u001b[0m\n\u001b[1;32m      1\u001b[0m \u001b[0;32mdef\u001b[0m \u001b[0mclean_adress\u001b[0m\u001b[0;34m(\u001b[0m\u001b[0mraw\u001b[0m\u001b[0;34m)\u001b[0m\u001b[0;34m:\u001b[0m\u001b[0;34m\u001b[0m\u001b[0;34m\u001b[0m\u001b[0m\n\u001b[0;32m----> 2\u001b[0;31m     \u001b[0mmatch\u001b[0m \u001b[0;34m=\u001b[0m \u001b[0mre\u001b[0m\u001b[0;34m.\u001b[0m\u001b[0msearch\u001b[0m\u001b[0;34m(\u001b[0m\u001b[0;34mr'<(.+)>'\u001b[0m\u001b[0;34m,\u001b[0m \u001b[0mraw\u001b[0m\u001b[0;34m)\u001b[0m\u001b[0;34m\u001b[0m\u001b[0;34m\u001b[0m\u001b[0m\n\u001b[0m\u001b[1;32m      3\u001b[0m     \u001b[0;32mreturn\u001b[0m \u001b[0mmatch\u001b[0m\u001b[0;34m.\u001b[0m\u001b[0mgroup\u001b[0m\u001b[0;34m(\u001b[0m\u001b[0;36m1\u001b[0m\u001b[0;34m)\u001b[0m \u001b[0;32mif\u001b[0m \u001b[0mmatch\u001b[0m \u001b[0;32melse\u001b[0m \u001b[0mraw\u001b[0m\u001b[0;34m\u001b[0m\u001b[0;34m\u001b[0m\u001b[0m\n",
      "\u001b[0;32m~/.local/share/virtualenvs/Python-For-Data-Science-Training-dLEhGehk/lib/python3.8/re.py\u001b[0m in \u001b[0;36msearch\u001b[0;34m(pattern, string, flags)\u001b[0m\n\u001b[1;32m    197\u001b[0m     \"\"\"Scan through string looking for a match to the pattern, returning\n\u001b[1;32m    198\u001b[0m     a Match object, or None if no match was found.\"\"\"\n\u001b[0;32m--> 199\u001b[0;31m     \u001b[0;32mreturn\u001b[0m \u001b[0m_compile\u001b[0m\u001b[0;34m(\u001b[0m\u001b[0mpattern\u001b[0m\u001b[0;34m,\u001b[0m \u001b[0mflags\u001b[0m\u001b[0;34m)\u001b[0m\u001b[0;34m.\u001b[0m\u001b[0msearch\u001b[0m\u001b[0;34m(\u001b[0m\u001b[0mstring\u001b[0m\u001b[0;34m)\u001b[0m\u001b[0;34m\u001b[0m\u001b[0;34m\u001b[0m\u001b[0m\n\u001b[0m\u001b[1;32m    200\u001b[0m \u001b[0;34m\u001b[0m\u001b[0m\n\u001b[1;32m    201\u001b[0m \u001b[0;32mdef\u001b[0m \u001b[0msub\u001b[0m\u001b[0;34m(\u001b[0m\u001b[0mpattern\u001b[0m\u001b[0;34m,\u001b[0m \u001b[0mrepl\u001b[0m\u001b[0;34m,\u001b[0m \u001b[0mstring\u001b[0m\u001b[0;34m,\u001b[0m \u001b[0mcount\u001b[0m\u001b[0;34m=\u001b[0m\u001b[0;36m0\u001b[0m\u001b[0;34m,\u001b[0m \u001b[0mflags\u001b[0m\u001b[0;34m=\u001b[0m\u001b[0;36m0\u001b[0m\u001b[0;34m)\u001b[0m\u001b[0;34m:\u001b[0m\u001b[0;34m\u001b[0m\u001b[0;34m\u001b[0m\u001b[0m\n",
      "\u001b[0;31mTypeError\u001b[0m: expected string or bytes-like object"
     ]
    }
   ],
   "source": [
    "messages['from'] = messages['from'].apply(clean_adress)"
   ]
  },
  {
   "cell_type": "code",
   "execution_count": 16,
   "metadata": {},
   "outputs": [],
   "source": [
    "# %debug "
   ]
  },
  {
   "cell_type": "code",
   "execution_count": 17,
   "metadata": {},
   "outputs": [],
   "source": [
    "messages['from'] = messages['from'].dropna().apply(clean_adress)\n",
    "messages['to'] = messages['to'].dropna().apply(clean_adress)"
   ]
  },
  {
   "cell_type": "code",
   "execution_count": 18,
   "metadata": {},
   "outputs": [
    {
     "data": {
      "text/html": [
       "<div>\n",
       "<style scoped>\n",
       "    .dataframe tbody tr th:only-of-type {\n",
       "        vertical-align: middle;\n",
       "    }\n",
       "\n",
       "    .dataframe tbody tr th {\n",
       "        vertical-align: top;\n",
       "    }\n",
       "\n",
       "    .dataframe thead th {\n",
       "        text-align: right;\n",
       "    }\n",
       "</style>\n",
       "<table border=\"1\" class=\"dataframe\">\n",
       "  <thead>\n",
       "    <tr style=\"text-align: right;\">\n",
       "      <th></th>\n",
       "      <th>subject</th>\n",
       "      <th>from</th>\n",
       "      <th>to</th>\n",
       "      <th>date</th>\n",
       "    </tr>\n",
       "  </thead>\n",
       "  <tbody>\n",
       "    <tr>\n",
       "      <th>0</th>\n",
       "      <td>Why control quickly exactly capital.</td>\n",
       "      <td>Razaq.Mian Saad@jumber.gov</td>\n",
       "      <td>zrodriguez@hotmail.com</td>\n",
       "      <td>Mon, 27 Nov 2017 14:18:46 -0800</td>\n",
       "    </tr>\n",
       "    <tr>\n",
       "      <th>1</th>\n",
       "      <td>Work evidence from really threat sign store see.</td>\n",
       "      <td>Razaq.Mian Saad@jumber.gov</td>\n",
       "      <td>patriciagarcia@garcia-carney.com</td>\n",
       "      <td>Mon, 26 Mar 2018 18:38:16 -0700</td>\n",
       "    </tr>\n",
       "    <tr>\n",
       "      <th>2</th>\n",
       "      <td>Lot where answer the law person.</td>\n",
       "      <td>Razaq.Mian Saad@jumber.gov</td>\n",
       "      <td>hailey63@frazier.com</td>\n",
       "      <td>Tue, 13 Feb 2018 22:54:50 +0000</td>\n",
       "    </tr>\n",
       "    <tr>\n",
       "      <th>3</th>\n",
       "      <td>Difference hotel yard.</td>\n",
       "      <td>Razaq.Mian Saad@jumber.gov</td>\n",
       "      <td>josephrebecca@grimes.com</td>\n",
       "      <td>Fri, 26 Jan 2018 11:40:04 -0800</td>\n",
       "    </tr>\n",
       "    <tr>\n",
       "      <th>4</th>\n",
       "      <td>Long level mission energy candidate.</td>\n",
       "      <td>Razaq.Mian Saad@jumber.gov</td>\n",
       "      <td>rkhan@yahoo.com</td>\n",
       "      <td>Tue, 31 Oct 2017 00:13:00 +0000</td>\n",
       "    </tr>\n",
       "    <tr>\n",
       "      <th>...</th>\n",
       "      <td>...</td>\n",
       "      <td>...</td>\n",
       "      <td>...</td>\n",
       "      <td>...</td>\n",
       "    </tr>\n",
       "    <tr>\n",
       "      <th>1025</th>\n",
       "      <td>Walk begin around during seat affect within.</td>\n",
       "      <td>Razaq.Mian Saad@jumber.gov</td>\n",
       "      <td>josephrodriguez@jimenez.net</td>\n",
       "      <td>Mon, 26 Mar 2018 10:40:36 -0700</td>\n",
       "    </tr>\n",
       "    <tr>\n",
       "      <th>1026</th>\n",
       "      <td>Page paper gun course represent will.</td>\n",
       "      <td>Razaq.Mian Saad@jumber.gov</td>\n",
       "      <td>hshaw@yahoo.com</td>\n",
       "      <td>Tue, 6 Mar 2018 21:44:22 -0800</td>\n",
       "    </tr>\n",
       "    <tr>\n",
       "      <th>1027</th>\n",
       "      <td>Rate sing campaign wall similar seven staff pr...</td>\n",
       "      <td>Razaq.Mian Saad@jumber.gov</td>\n",
       "      <td>emma32@aguirre.com</td>\n",
       "      <td>Tue, 23 Jan 2018 14:34:19 -0800</td>\n",
       "    </tr>\n",
       "    <tr>\n",
       "      <th>1028</th>\n",
       "      <td>Education outside strong build time organizati...</td>\n",
       "      <td>Razaq.Mian Saad@jumber.gov</td>\n",
       "      <td>charles67@gmail.com</td>\n",
       "      <td>Wed, 20 Dec 2017 08:28:47 -0800</td>\n",
       "    </tr>\n",
       "    <tr>\n",
       "      <th>1029</th>\n",
       "      <td>Authority city police near.</td>\n",
       "      <td>Razaq.Mian Saad@jumber.gov</td>\n",
       "      <td>daniel71@cunningham-williams.com</td>\n",
       "      <td>Thu, 12 Oct 2017 14:26:18 -0700</td>\n",
       "    </tr>\n",
       "  </tbody>\n",
       "</table>\n",
       "<p>1030 rows × 4 columns</p>\n",
       "</div>"
      ],
      "text/plain": [
       "                                                subject  \\\n",
       "0                  Why control quickly exactly capital.   \n",
       "1      Work evidence from really threat sign store see.   \n",
       "2                      Lot where answer the law person.   \n",
       "3                                Difference hotel yard.   \n",
       "4                  Long level mission energy candidate.   \n",
       "...                                                 ...   \n",
       "1025       Walk begin around during seat affect within.   \n",
       "1026              Page paper gun course represent will.   \n",
       "1027  Rate sing campaign wall similar seven staff pr...   \n",
       "1028  Education outside strong build time organizati...   \n",
       "1029                        Authority city police near.   \n",
       "\n",
       "                            from                                to  \\\n",
       "0     Razaq.Mian Saad@jumber.gov            zrodriguez@hotmail.com   \n",
       "1     Razaq.Mian Saad@jumber.gov  patriciagarcia@garcia-carney.com   \n",
       "2     Razaq.Mian Saad@jumber.gov              hailey63@frazier.com   \n",
       "3     Razaq.Mian Saad@jumber.gov          josephrebecca@grimes.com   \n",
       "4     Razaq.Mian Saad@jumber.gov                   rkhan@yahoo.com   \n",
       "...                          ...                               ...   \n",
       "1025  Razaq.Mian Saad@jumber.gov       josephrodriguez@jimenez.net   \n",
       "1026  Razaq.Mian Saad@jumber.gov                   hshaw@yahoo.com   \n",
       "1027  Razaq.Mian Saad@jumber.gov                emma32@aguirre.com   \n",
       "1028  Razaq.Mian Saad@jumber.gov               charles67@gmail.com   \n",
       "1029  Razaq.Mian Saad@jumber.gov  daniel71@cunningham-williams.com   \n",
       "\n",
       "                                 date  \n",
       "0     Mon, 27 Nov 2017 14:18:46 -0800  \n",
       "1     Mon, 26 Mar 2018 18:38:16 -0700  \n",
       "2     Tue, 13 Feb 2018 22:54:50 +0000  \n",
       "3     Fri, 26 Jan 2018 11:40:04 -0800  \n",
       "4     Tue, 31 Oct 2017 00:13:00 +0000  \n",
       "...                               ...  \n",
       "1025  Mon, 26 Mar 2018 10:40:36 -0700  \n",
       "1026   Tue, 6 Mar 2018 21:44:22 -0800  \n",
       "1027  Tue, 23 Jan 2018 14:34:19 -0800  \n",
       "1028  Wed, 20 Dec 2017 08:28:47 -0800  \n",
       "1029  Thu, 12 Oct 2017 14:26:18 -0700  \n",
       "\n",
       "[1030 rows x 4 columns]"
      ]
     },
     "execution_count": 18,
     "metadata": {},
     "output_type": "execute_result"
    }
   ],
   "source": [
    "messages"
   ]
  },
  {
   "cell_type": "code",
   "execution_count": 19,
   "metadata": {},
   "outputs": [
    {
     "data": {
      "text/plain": [
       "('Mon, 27 Nov 2017 14:18:46 -0800', str)"
      ]
     },
     "execution_count": 19,
     "metadata": {},
     "output_type": "execute_result"
    }
   ],
   "source": [
    "messages['date'][0], type(messages['date'][0])"
   ]
  },
  {
   "cell_type": "code",
   "execution_count": 20,
   "metadata": {},
   "outputs": [
    {
     "data": {
      "text/plain": [
       "Timestamp('2017-11-27 23:18:46+0100', tz='Europe/Amsterdam')"
      ]
     },
     "execution_count": 20,
     "metadata": {},
     "output_type": "execute_result"
    }
   ],
   "source": [
    "pd.to_datetime(messages['date'][0]).tz_convert('Europe/Amsterdam')"
   ]
  },
  {
   "cell_type": "code",
   "execution_count": 21,
   "metadata": {},
   "outputs": [],
   "source": [
    "messages['date'] = messages['date'].apply(lambda m: pd.to_datetime(m).tz_convert('Europe/Amsterdam'))"
   ]
  },
  {
   "cell_type": "code",
   "execution_count": 22,
   "metadata": {},
   "outputs": [
    {
     "data": {
      "text/plain": [
       "pandas._libs.tslibs.timestamps.Timestamp"
      ]
     },
     "execution_count": 22,
     "metadata": {},
     "output_type": "execute_result"
    }
   ],
   "source": [
    "type(messages['date'][0])"
   ]
  },
  {
   "cell_type": "code",
   "execution_count": 23,
   "metadata": {},
   "outputs": [
    {
     "data": {
      "text/plain": [
       "0   2017-11-27 23:18:46+01:00\n",
       "1   2018-03-27 03:38:16+02:00\n",
       "2   2018-02-13 23:54:50+01:00\n",
       "3   2018-01-26 20:40:04+01:00\n",
       "4   2017-10-31 01:13:00+01:00\n",
       "Name: date, dtype: datetime64[ns, Europe/Amsterdam]"
      ]
     },
     "execution_count": 23,
     "metadata": {},
     "output_type": "execute_result"
    }
   ],
   "source": [
    "messages.date.head()"
   ]
  },
  {
   "cell_type": "code",
   "execution_count": 24,
   "metadata": {},
   "outputs": [
    {
     "data": {
      "text/plain": [
       "(Timestamp('2017-07-01 08:26:52+0200', tz='Europe/Amsterdam'),\n",
       " Timestamp('2018-05-13 17:40:20+0200', tz='Europe/Amsterdam'))"
      ]
     },
     "execution_count": 24,
     "metadata": {},
     "output_type": "execute_result"
    }
   ],
   "source": [
    "messages.date.min(), messages.date.max()"
   ]
  },
  {
   "cell_type": "code",
   "execution_count": 25,
   "metadata": {},
   "outputs": [
    {
     "data": {
      "text/plain": [
       "0     Monday\n",
       "1    Tuesday\n",
       "2    Tuesday\n",
       "3     Friday\n",
       "4    Tuesday\n",
       "Name: date, dtype: object"
      ]
     },
     "execution_count": 25,
     "metadata": {},
     "output_type": "execute_result"
    }
   ],
   "source": [
    "messages.date.dt.weekday_name.head()"
   ]
  },
  {
   "cell_type": "code",
   "execution_count": 26,
   "metadata": {},
   "outputs": [],
   "source": [
    "messages['dayofweek'] = pd.Categorical(\n",
    "    messages.date.dt.weekday_name,\n",
    "    ordered=True,\n",
    "    categories=[\n",
    "        'Monday',\n",
    "        'Tuesday',\n",
    "        'Wednesday',\n",
    "        'Thursday',\n",
    "        'Friday',\n",
    "        'Saturday',\n",
    "        'Sunday',\n",
    "    ]\n",
    ")"
   ]
  },
  {
   "cell_type": "code",
   "execution_count": 27,
   "metadata": {},
   "outputs": [],
   "source": [
    "messages['timeofday'] = messages['date'].dt.hour + messages['date'].dt.minute / 60"
   ]
  },
  {
   "cell_type": "code",
   "execution_count": 28,
   "metadata": {},
   "outputs": [
    {
     "data": {
      "text/html": [
       "<div>\n",
       "<style scoped>\n",
       "    .dataframe tbody tr th:only-of-type {\n",
       "        vertical-align: middle;\n",
       "    }\n",
       "\n",
       "    .dataframe tbody tr th {\n",
       "        vertical-align: top;\n",
       "    }\n",
       "\n",
       "    .dataframe thead th {\n",
       "        text-align: right;\n",
       "    }\n",
       "</style>\n",
       "<table border=\"1\" class=\"dataframe\">\n",
       "  <thead>\n",
       "    <tr style=\"text-align: right;\">\n",
       "      <th></th>\n",
       "      <th>subject</th>\n",
       "      <th>from</th>\n",
       "      <th>to</th>\n",
       "      <th>date</th>\n",
       "      <th>dayofweek</th>\n",
       "      <th>timeofday</th>\n",
       "    </tr>\n",
       "  </thead>\n",
       "  <tbody>\n",
       "    <tr>\n",
       "      <th>0</th>\n",
       "      <td>Why control quickly exactly capital.</td>\n",
       "      <td>Razaq.Mian Saad@jumber.gov</td>\n",
       "      <td>zrodriguez@hotmail.com</td>\n",
       "      <td>2017-11-27 23:18:46+01:00</td>\n",
       "      <td>Monday</td>\n",
       "      <td>23.300000</td>\n",
       "    </tr>\n",
       "    <tr>\n",
       "      <th>1</th>\n",
       "      <td>Work evidence from really threat sign store see.</td>\n",
       "      <td>Razaq.Mian Saad@jumber.gov</td>\n",
       "      <td>patriciagarcia@garcia-carney.com</td>\n",
       "      <td>2018-03-27 03:38:16+02:00</td>\n",
       "      <td>Tuesday</td>\n",
       "      <td>3.633333</td>\n",
       "    </tr>\n",
       "    <tr>\n",
       "      <th>2</th>\n",
       "      <td>Lot where answer the law person.</td>\n",
       "      <td>Razaq.Mian Saad@jumber.gov</td>\n",
       "      <td>hailey63@frazier.com</td>\n",
       "      <td>2018-02-13 23:54:50+01:00</td>\n",
       "      <td>Tuesday</td>\n",
       "      <td>23.900000</td>\n",
       "    </tr>\n",
       "    <tr>\n",
       "      <th>3</th>\n",
       "      <td>Difference hotel yard.</td>\n",
       "      <td>Razaq.Mian Saad@jumber.gov</td>\n",
       "      <td>josephrebecca@grimes.com</td>\n",
       "      <td>2018-01-26 20:40:04+01:00</td>\n",
       "      <td>Friday</td>\n",
       "      <td>20.666667</td>\n",
       "    </tr>\n",
       "    <tr>\n",
       "      <th>4</th>\n",
       "      <td>Long level mission energy candidate.</td>\n",
       "      <td>Razaq.Mian Saad@jumber.gov</td>\n",
       "      <td>rkhan@yahoo.com</td>\n",
       "      <td>2017-10-31 01:13:00+01:00</td>\n",
       "      <td>Tuesday</td>\n",
       "      <td>1.216667</td>\n",
       "    </tr>\n",
       "  </tbody>\n",
       "</table>\n",
       "</div>"
      ],
      "text/plain": [
       "                                            subject  \\\n",
       "0              Why control quickly exactly capital.   \n",
       "1  Work evidence from really threat sign store see.   \n",
       "2                  Lot where answer the law person.   \n",
       "3                            Difference hotel yard.   \n",
       "4              Long level mission energy candidate.   \n",
       "\n",
       "                         from                                to  \\\n",
       "0  Razaq.Mian Saad@jumber.gov            zrodriguez@hotmail.com   \n",
       "1  Razaq.Mian Saad@jumber.gov  patriciagarcia@garcia-carney.com   \n",
       "2  Razaq.Mian Saad@jumber.gov              hailey63@frazier.com   \n",
       "3  Razaq.Mian Saad@jumber.gov          josephrebecca@grimes.com   \n",
       "4  Razaq.Mian Saad@jumber.gov                   rkhan@yahoo.com   \n",
       "\n",
       "                       date dayofweek  timeofday  \n",
       "0 2017-11-27 23:18:46+01:00    Monday  23.300000  \n",
       "1 2018-03-27 03:38:16+02:00   Tuesday   3.633333  \n",
       "2 2018-02-13 23:54:50+01:00   Tuesday  23.900000  \n",
       "3 2018-01-26 20:40:04+01:00    Friday  20.666667  \n",
       "4 2017-10-31 01:13:00+01:00   Tuesday   1.216667  "
      ]
     },
     "execution_count": 28,
     "metadata": {},
     "output_type": "execute_result"
    }
   ],
   "source": [
    "messages.head()"
   ]
  },
  {
   "cell_type": "code",
   "execution_count": 41,
   "metadata": {},
   "outputs": [],
   "source": [
    "messages['year'] = messages['date'].dt.year + messages['date'].dt.dayofyear / 365.25 +  messages['timeofday'] / 24 / 365.25"
   ]
  },
  {
   "cell_type": "code",
   "execution_count": 42,
   "metadata": {},
   "outputs": [
    {
     "data": {
      "text/html": [
       "<div>\n",
       "<style scoped>\n",
       "    .dataframe tbody tr th:only-of-type {\n",
       "        vertical-align: middle;\n",
       "    }\n",
       "\n",
       "    .dataframe tbody tr th {\n",
       "        vertical-align: top;\n",
       "    }\n",
       "\n",
       "    .dataframe thead th {\n",
       "        text-align: right;\n",
       "    }\n",
       "</style>\n",
       "<table border=\"1\" class=\"dataframe\">\n",
       "  <thead>\n",
       "    <tr style=\"text-align: right;\">\n",
       "      <th></th>\n",
       "      <th>subject</th>\n",
       "      <th>from</th>\n",
       "      <th>to</th>\n",
       "      <th>date</th>\n",
       "      <th>dayofweek</th>\n",
       "      <th>timeofday</th>\n",
       "      <th>year</th>\n",
       "    </tr>\n",
       "  </thead>\n",
       "  <tbody>\n",
       "    <tr>\n",
       "      <th>0</th>\n",
       "      <td>Why control quickly exactly capital.</td>\n",
       "      <td>Razaq.Mian Saad@jumber.gov</td>\n",
       "      <td>zrodriguez@hotmail.com</td>\n",
       "      <td>2017-11-27 23:18:46+01:00</td>\n",
       "      <td>Monday</td>\n",
       "      <td>23.300000</td>\n",
       "      <td>2017.908887</td>\n",
       "    </tr>\n",
       "    <tr>\n",
       "      <th>1</th>\n",
       "      <td>Work evidence from really threat sign store see.</td>\n",
       "      <td>Razaq.Mian Saad@jumber.gov</td>\n",
       "      <td>patriciagarcia@garcia-carney.com</td>\n",
       "      <td>2018-03-27 03:38:16+02:00</td>\n",
       "      <td>Tuesday</td>\n",
       "      <td>3.633333</td>\n",
       "      <td>2018.235870</td>\n",
       "    </tr>\n",
       "    <tr>\n",
       "      <th>2</th>\n",
       "      <td>Lot where answer the law person.</td>\n",
       "      <td>Razaq.Mian Saad@jumber.gov</td>\n",
       "      <td>hailey63@frazier.com</td>\n",
       "      <td>2018-02-13 23:54:50+01:00</td>\n",
       "      <td>Tuesday</td>\n",
       "      <td>23.900000</td>\n",
       "      <td>2018.123192</td>\n",
       "    </tr>\n",
       "    <tr>\n",
       "      <th>3</th>\n",
       "      <td>Difference hotel yard.</td>\n",
       "      <td>Razaq.Mian Saad@jumber.gov</td>\n",
       "      <td>josephrebecca@grimes.com</td>\n",
       "      <td>2018-01-26 20:40:04+01:00</td>\n",
       "      <td>Friday</td>\n",
       "      <td>20.666667</td>\n",
       "      <td>2018.073542</td>\n",
       "    </tr>\n",
       "    <tr>\n",
       "      <th>4</th>\n",
       "      <td>Long level mission energy candidate.</td>\n",
       "      <td>Razaq.Mian Saad@jumber.gov</td>\n",
       "      <td>rkhan@yahoo.com</td>\n",
       "      <td>2017-10-31 01:13:00+01:00</td>\n",
       "      <td>Tuesday</td>\n",
       "      <td>1.216667</td>\n",
       "      <td>2017.832445</td>\n",
       "    </tr>\n",
       "  </tbody>\n",
       "</table>\n",
       "</div>"
      ],
      "text/plain": [
       "                                            subject  \\\n",
       "0              Why control quickly exactly capital.   \n",
       "1  Work evidence from really threat sign store see.   \n",
       "2                  Lot where answer the law person.   \n",
       "3                            Difference hotel yard.   \n",
       "4              Long level mission energy candidate.   \n",
       "\n",
       "                         from                                to  \\\n",
       "0  Razaq.Mian Saad@jumber.gov            zrodriguez@hotmail.com   \n",
       "1  Razaq.Mian Saad@jumber.gov  patriciagarcia@garcia-carney.com   \n",
       "2  Razaq.Mian Saad@jumber.gov              hailey63@frazier.com   \n",
       "3  Razaq.Mian Saad@jumber.gov          josephrebecca@grimes.com   \n",
       "4  Razaq.Mian Saad@jumber.gov                   rkhan@yahoo.com   \n",
       "\n",
       "                       date dayofweek  timeofday         year  \n",
       "0 2017-11-27 23:18:46+01:00    Monday  23.300000  2017.908887  \n",
       "1 2018-03-27 03:38:16+02:00   Tuesday   3.633333  2018.235870  \n",
       "2 2018-02-13 23:54:50+01:00   Tuesday  23.900000  2018.123192  \n",
       "3 2018-01-26 20:40:04+01:00    Friday  20.666667  2018.073542  \n",
       "4 2017-10-31 01:13:00+01:00   Tuesday   1.216667  2017.832445  "
      ]
     },
     "execution_count": 42,
     "metadata": {},
     "output_type": "execute_result"
    }
   ],
   "source": [
    "messages.head()"
   ]
  },
  {
   "cell_type": "code",
   "execution_count": 43,
   "metadata": {},
   "outputs": [
    {
     "data": {
      "text/plain": [
       "<matplotlib.axes._subplots.AxesSubplot at 0x7fe1c19d9ac0>"
      ]
     },
     "execution_count": 43,
     "metadata": {},
     "output_type": "execute_result"
    },
    {
     "data": {
      "image/png": "[encoded data removed]",
      "text/plain": [
       "<Figure size 432x288 with 1 Axes>"
      ]
     },
     "metadata": {
      "needs_background": "light"
     },
     "output_type": "display_data"
    }
   ],
   "source": [
    "messages.plot.scatter('year', 'timeofday', s=2)"
   ]
  },
  {
   "cell_type": "code",
   "execution_count": 44,
   "metadata": {},
   "outputs": [
    {
     "data": {
      "text/plain": [
       "<matplotlib.axes._subplots.AxesSubplot at 0x7fe1c276b700>"
      ]
     },
     "execution_count": 44,
     "metadata": {},
     "output_type": "execute_result"
    },
    {
     "data": {
      "image/png": "[encoded data removed]",
      "text/plain": [
       "<Figure size 432x288 with 1 Axes>"
      ]
     },
     "metadata": {
      "needs_background": "light"
     },
     "output_type": "display_data"
    }
   ],
   "source": [
    "messages.year.hist()"
   ]
  },
  {
   "cell_type": "code",
   "execution_count": 45,
   "metadata": {},
   "outputs": [
    {
     "data": {
      "text/plain": [
       "<matplotlib.axes._subplots.AxesSubplot at 0x7fe1c186cfd0>"
      ]
     },
     "execution_count": 45,
     "metadata": {},
     "output_type": "execute_result"
    },
    {
     "data": {
      "image/png": "[encoded data removed]",
      "text/plain": [
       "<Figure size 432x288 with 1 Axes>"
      ]
     },
     "metadata": {
      "needs_background": "light"
     },
     "output_type": "display_data"
    }
   ],
   "source": [
    "messages.timeofday.hist()"
   ]
  },
  {
   "cell_type": "code",
   "execution_count": 48,
   "metadata": {},
   "outputs": [
    {
     "data": {
      "text/plain": [
       "Tuesday      230\n",
       "Thursday     218\n",
       "Wednesday    205\n",
       "Friday       154\n",
       "Monday       140\n",
       "Saturday      63\n",
       "Sunday        20\n",
       "Name: dayofweek, dtype: int64"
      ]
     },
     "execution_count": 48,
     "metadata": {},
     "output_type": "execute_result"
    }
   ],
   "source": [
    "messages.dayofweek.value_counts()"
   ]
  },
  {
   "cell_type": "code",
   "execution_count": 51,
   "metadata": {},
   "outputs": [
    {
     "data": {
      "text/plain": [
       "<matplotlib.axes._subplots.AxesSubplot at 0x7fe1c23720a0>"
      ]
     },
     "execution_count": 51,
     "metadata": {},
     "output_type": "execute_result"
    },
    {
     "data": {
      "image/png": "[encoded data removed]",
      "text/plain": [
       "<Figure size 432x288 with 1 Axes>"
      ]
     },
     "metadata": {
      "needs_background": "light"
     },
     "output_type": "display_data"
    }
   ],
   "source": [
    "counts = messages.dayofweek.value_counts(sort=False)\n",
    "counts.plot(kind='bar')"
   ]
  },
  {
   "cell_type": "code",
   "execution_count": 54,
   "metadata": {},
   "outputs": [],
   "source": [
    "days = messages.dayofweek.cat.categories"
   ]
  },
  {
   "cell_type": "code",
   "execution_count": 56,
   "metadata": {},
   "outputs": [
    {
     "data": {
      "text/plain": [
       "<matplotlib.legend.Legend at 0x7fe1c16f1ee0>"
      ]
     },
     "execution_count": 56,
     "metadata": {},
     "output_type": "execute_result"
    },
    {
     "data": {
      "image/png": "[encoded data removed]",
      "text/plain": [
       "<Figure size 432x288 with 1 Axes>"
      ]
     },
     "metadata": {
      "needs_background": "light"
     },
     "output_type": "display_data"
    }
   ],
   "source": [
    "for  day in days:\n",
    "    messages[messages.dayofweek == day].timeofday.plot(kind='density')\n",
    "pp.legend(days)"
   ]
  },
  {
   "cell_type": "code",
   "execution_count": 57,
   "metadata": {},
   "outputs": [
    {
     "data": {
      "text/plain": [
       "<matplotlib.legend.Legend at 0x7fe1bdd99f10>"
      ]
     },
     "execution_count": 57,
     "metadata": {},
     "output_type": "execute_result"
    },
    {
     "data": {
      "image/png": "[encoded data removed]",
      "text/plain": [
       "<Figure size 432x288 with 1 Axes>"
      ]
     },
     "metadata": {
      "needs_background": "light"
     },
     "output_type": "display_data"
    }
   ],
   "source": [
    "messages.groupby('dayofweek').timeofday.plot(kind='density')\n",
    "pp.legend(days)"
   ]
  },
  {
   "cell_type": "code",
   "execution_count": null,
   "metadata": {},
   "outputs": [],
   "source": []
  }
 ],
 "metadata": {
  "kernelspec": {
   "display_name": "Python 3",
   "language": "python",
   "name": "python3"
  },
  "language_info": {
   "codemirror_mode": {
    "name": "ipython",
    "version": 3
   },
   "file_extension": ".py",
   "mimetype": "text/x-python",
   "name": "python",
   "nbconvert_exporter": "python",
   "pygments_lexer": "ipython3",
   "version": "3.8.1"
  }
 },
 "nbformat": 4,
 "nbformat_minor": 4
}
