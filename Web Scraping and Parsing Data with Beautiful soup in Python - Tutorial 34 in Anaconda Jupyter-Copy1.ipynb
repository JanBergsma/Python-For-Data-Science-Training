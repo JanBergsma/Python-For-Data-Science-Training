{
 "cells": [
  {
   "cell_type": "markdown",
   "metadata": {},
   "source": [
    "# Web Scraping and Parsing | Retrieving Tags with Beautiful Soup in Python - Tutorial 35 in Anaconda"
   ]
  },
  {
   "cell_type": "markdown",
   "metadata": {},
   "source": [
    "## Data Parsing"
   ]
  },
  {
   "cell_type": "code",
   "execution_count": 1,
   "metadata": {},
   "outputs": [],
   "source": [
    "import pandas\n",
    "\n",
    "from bs4 import BeautifulSoup\n",
    "import re"
   ]
  },
  {
   "cell_type": "code",
   "execution_count": 5,
   "metadata": {},
   "outputs": [],
   "source": [
    "filename = 'data/DSFD_Listing.html'\n",
    "\n",
    "html_doc = None\n",
    "with open(filename, 'r') as f:\n",
    "    html_doc = f.read()\n",
    "\n",
    "soup = BeautifulSoup(html_doc, 'html.parser')"
   ]
  },
  {
   "cell_type": "code",
   "execution_count": 6,
   "metadata": {},
   "outputs": [
    {
     "data": {
      "text/plain": [
       "bs4.BeautifulSoup"
      ]
     },
     "execution_count": 6,
     "metadata": {},
     "output_type": "execute_result"
    }
   ],
   "source": [
    "type(soup)"
   ]
  },
  {
   "cell_type": "markdown",
   "metadata": {},
   "source": [
    "## Parsing your data"
   ]
  },
  {
   "cell_type": "code",
   "execution_count": 8,
   "metadata": {},
   "outputs": [
    {
     "name": "stdout",
     "output_type": "stream",
     "text": [
      "<!DOCTYPE html>\n",
      "<html>\n",
      " <head>\n",
      "  <title>\n",
      "   Best Books\n",
      "  </title>\n",
      " </head>\n",
      " <body>\n",
      "  <p class=\"title\n"
     ]
    }
   ],
   "source": [
    "print(soup.prettify()[:100])"
   ]
  },
  {
   "cell_type": "markdown",
   "metadata": {},
   "source": [
    "## Getting data from a parse tree"
   ]
  },
  {
   "cell_type": "code",
   "execution_count": 10,
   "metadata": {},
   "outputs": [
    {
     "name": "stdout",
     "output_type": "stream",
     "text": [
      "\n",
      "\n",
      "\n",
      "Best Books\n",
      "\n",
      "\n",
      "DATA SCIENCE FOR DUMMIES\n",
      "Jobs in data science abound, but few people have the data science skills needed to fill these\n",
      "    increasingly important roles in organizations. Data Science For Dummies is the pe\n",
      "    \n",
      "    Edition 1 of this book:\n",
      "    \n",
      "\n",
      "Provides a background in data science fundamentals before moving on to working with relational databases and\n",
      "        unstructured data and preparing your data for analysis\n",
      "Details different data visualization techniques that can be used to showcase and summarize your data\n",
      "Explains both supervised and unsupervised machine learning, including regression, model validation, and\n",
      "        clustering techniques\n",
      "Includes coverage of big data processing tools like MapReduce, Hadoop, Storm, and Spark\n",
      "\n",
      "\n",
      "    What to do next:\n",
      "    \n",
      "See a preview of the\n",
      "      book,\n",
      "    get the free pdf download, and then\n",
      "    buy the book!\n",
      "\n",
      "...\n",
      "\n",
      "\n"
     ]
    }
   ],
   "source": [
    "text_only = soup.get_text()\n",
    "print(text_only)"
   ]
  },
  {
   "cell_type": "markdown",
   "metadata": {},
   "source": [
    "## Searching and retrieving data from a parse tree"
   ]
  },
  {
   "cell_type": "markdown",
   "metadata": {},
   "source": [
    "### Retrieving tags by filtering with name arguments"
   ]
  },
  {
   "cell_type": "code",
   "execution_count": 11,
   "metadata": {},
   "outputs": [
    {
     "data": {
      "text/plain": [
       "[<li>Provides a background in data science fundamentals before moving on to working with relational databases and\n",
       "         unstructured data and preparing your data for analysis</li>,\n",
       " <li>Details different data visualization techniques that can be used to showcase and summarize your data</li>,\n",
       " <li>Explains both supervised and unsupervised machine learning, including regression, model validation, and\n",
       "         clustering techniques</li>,\n",
       " <li>Includes coverage of big data processing tools like MapReduce, Hadoop, Storm, and Spark</li>]"
      ]
     },
     "execution_count": 11,
     "metadata": {},
     "output_type": "execute_result"
    }
   ],
   "source": [
    "soup.find_all('li')"
   ]
  },
  {
   "cell_type": "markdown",
   "metadata": {},
   "source": [
    "### Retrieving tags by filtering with keyword arguments"
   ]
  },
  {
   "cell_type": "code",
   "execution_count": 12,
   "metadata": {},
   "outputs": [
    {
     "data": {
      "text/plain": [
       "[<a class=\"preview\" href=\"http://bit.ly/Data-Science-For-Dummies\" id=\"link 3\">buy the book!</a>]"
      ]
     },
     "execution_count": 12,
     "metadata": {},
     "output_type": "execute_result"
    }
   ],
   "source": [
    "soup.find_all(id='link 3')"
   ]
  },
  {
   "cell_type": "markdown",
   "metadata": {},
   "source": [
    "### Retrieving tags by filtering with string arguments"
   ]
  },
  {
   "cell_type": "code",
   "execution_count": 13,
   "metadata": {},
   "outputs": [
    {
     "data": {
      "text/plain": [
       "[<ul>\n",
       " <li>Provides a background in data science fundamentals before moving on to working with relational databases and\n",
       "         unstructured data and preparing your data for analysis</li>\n",
       " <li>Details different data visualization techniques that can be used to showcase and summarize your data</li>\n",
       " <li>Explains both supervised and unsupervised machine learning, including regression, model validation, and\n",
       "         clustering techniques</li>\n",
       " <li>Includes coverage of big data processing tools like MapReduce, Hadoop, Storm, and Spark</li>\n",
       " </ul>]"
      ]
     },
     "execution_count": 13,
     "metadata": {},
     "output_type": "execute_result"
    }
   ],
   "source": [
    "soup.find_all('ul')"
   ]
  },
  {
   "cell_type": "markdown",
   "metadata": {},
   "source": [
    "### Retrieving tags by filtering with list objects"
   ]
  },
  {
   "cell_type": "code",
   "execution_count": 14,
   "metadata": {},
   "outputs": [
    {
     "data": {
      "text/plain": [
       "[<b>DATA SCIENCE FOR DUMMIES</b>, <ul>\n",
       " <li>Provides a background in data science fundamentals before moving on to working with relational databases and\n",
       "         unstructured data and preparing your data for analysis</li>\n",
       " <li>Details different data visualization techniques that can be used to showcase and summarize your data</li>\n",
       " <li>Explains both supervised and unsupervised machine learning, including regression, model validation, and\n",
       "         clustering techniques</li>\n",
       " <li>Includes coverage of big data processing tools like MapReduce, Hadoop, Storm, and Spark</li>\n",
       " </ul>]"
      ]
     },
     "execution_count": 14,
     "metadata": {},
     "output_type": "execute_result"
    }
   ],
   "source": [
    "soup.find_all(['ul', 'b'])"
   ]
  },
  {
   "cell_type": "markdown",
   "metadata": {},
   "source": [
    "### Retrieving tags by filtering with regular expressions"
   ]
  },
  {
   "cell_type": "code",
   "execution_count": 27,
   "metadata": {},
   "outputs": [
    {
     "data": {
      "text/plain": [
       "['DATA SCIENCE FOR DUMMIES',\n",
       " 'Includes coverage of big data processing tools like MapReduce, Hadoop, Storm, and Spark']"
      ]
     },
     "execution_count": 27,
     "metadata": {},
     "output_type": "execute_result"
    }
   ],
   "source": [
    "rex = re.compile(r'I')\n",
    "\n",
    "soup.find_all(string=rex)"
   ]
  },
  {
   "cell_type": "markdown",
   "metadata": {},
   "source": [
    "### Retrieving tags by filtering with a Boolean value"
   ]
  },
  {
   "cell_type": "code",
   "execution_count": 29,
   "metadata": {},
   "outputs": [
    {
     "data": {
      "text/plain": [
       "[<html>\n",
       " <head>\n",
       " <title>Best Books</title>\n",
       " </head>\n",
       " <body>\n",
       " <p class=\"title\"><b>DATA SCIENCE FOR DUMMIES</b></p>\n",
       " <p class=\"description\">Jobs in data science abound, but few people have the data science skills needed to fill these\n",
       "     increasingly important roles in organizations. Data Science For Dummies is the pe\n",
       "     <br/><br/>\n",
       "     Edition 1 of this book:\n",
       "     <br/>\n",
       " <ul>\n",
       " <li>Provides a background in data science fundamentals before moving on to working with relational databases and\n",
       "         unstructured data and preparing your data for analysis</li>\n",
       " <li>Details different data visualization techniques that can be used to showcase and summarize your data</li>\n",
       " <li>Explains both supervised and unsupervised machine learning, including regression, model validation, and\n",
       "         clustering techniques</li>\n",
       " <li>Includes coverage of big data processing tools like MapReduce, Hadoop, Storm, and Spark</li>\n",
       " </ul>\n",
       " <br/><br/>\n",
       "     What to do next:\n",
       "     <br/>\n",
       " <a class=\"preview\" href=\"http://www.data-mania.com/blog/books-by-lillian-pierson/\" id=\"link 1\">See a preview of the\n",
       "       book</a>,\n",
       "     <a class=\"preview\" href=\"http://www.data-mania.com/blog/data-science-for-dummies-answers-what-is-data-science/\" id=\"link 2\">get the free pdf download,</a> and then\n",
       "     <a class=\"preview\" href=\"http://bit.ly/Data-Science-For-Dummies\" id=\"link 3\">buy the book!</a>\n",
       " </p>\n",
       " <p class=\"description\">...</p>\n",
       " </body>\n",
       " </html>, <head>\n",
       " <title>Best Books</title>\n",
       " </head>, <title>Best Books</title>, <body>\n",
       " <p class=\"title\"><b>DATA SCIENCE FOR DUMMIES</b></p>\n",
       " <p class=\"description\">Jobs in data science abound, but few people have the data science skills needed to fill these\n",
       "     increasingly important roles in organizations. Data Science For Dummies is the pe\n",
       "     <br/><br/>\n",
       "     Edition 1 of this book:\n",
       "     <br/>\n",
       " <ul>\n",
       " <li>Provides a background in data science fundamentals before moving on to working with relational databases and\n",
       "         unstructured data and preparing your data for analysis</li>\n",
       " <li>Details different data visualization techniques that can be used to showcase and summarize your data</li>\n",
       " <li>Explains both supervised and unsupervised machine learning, including regression, model validation, and\n",
       "         clustering techniques</li>\n",
       " <li>Includes coverage of big data processing tools like MapReduce, Hadoop, Storm, and Spark</li>\n",
       " </ul>\n",
       " <br/><br/>\n",
       "     What to do next:\n",
       "     <br/>\n",
       " <a class=\"preview\" href=\"http://www.data-mania.com/blog/books-by-lillian-pierson/\" id=\"link 1\">See a preview of the\n",
       "       book</a>,\n",
       "     <a class=\"preview\" href=\"http://www.data-mania.com/blog/data-science-for-dummies-answers-what-is-data-science/\" id=\"link 2\">get the free pdf download,</a> and then\n",
       "     <a class=\"preview\" href=\"http://bit.ly/Data-Science-For-Dummies\" id=\"link 3\">buy the book!</a>\n",
       " </p>\n",
       " <p class=\"description\">...</p>\n",
       " </body>, <p class=\"title\"><b>DATA SCIENCE FOR DUMMIES</b></p>, <b>DATA SCIENCE FOR DUMMIES</b>, <p class=\"description\">Jobs in data science abound, but few people have the data science skills needed to fill these\n",
       "     increasingly important roles in organizations. Data Science For Dummies is the pe\n",
       "     <br/><br/>\n",
       "     Edition 1 of this book:\n",
       "     <br/>\n",
       " <ul>\n",
       " <li>Provides a background in data science fundamentals before moving on to working with relational databases and\n",
       "         unstructured data and preparing your data for analysis</li>\n",
       " <li>Details different data visualization techniques that can be used to showcase and summarize your data</li>\n",
       " <li>Explains both supervised and unsupervised machine learning, including regression, model validation, and\n",
       "         clustering techniques</li>\n",
       " <li>Includes coverage of big data processing tools like MapReduce, Hadoop, Storm, and Spark</li>\n",
       " </ul>\n",
       " <br/><br/>\n",
       "     What to do next:\n",
       "     <br/>\n",
       " <a class=\"preview\" href=\"http://www.data-mania.com/blog/books-by-lillian-pierson/\" id=\"link 1\">See a preview of the\n",
       "       book</a>,\n",
       "     <a class=\"preview\" href=\"http://www.data-mania.com/blog/data-science-for-dummies-answers-what-is-data-science/\" id=\"link 2\">get the free pdf download,</a> and then\n",
       "     <a class=\"preview\" href=\"http://bit.ly/Data-Science-For-Dummies\" id=\"link 3\">buy the book!</a>\n",
       " </p>, <br/>, <br/>, <br/>, <ul>\n",
       " <li>Provides a background in data science fundamentals before moving on to working with relational databases and\n",
       "         unstructured data and preparing your data for analysis</li>\n",
       " <li>Details different data visualization techniques that can be used to showcase and summarize your data</li>\n",
       " <li>Explains both supervised and unsupervised machine learning, including regression, model validation, and\n",
       "         clustering techniques</li>\n",
       " <li>Includes coverage of big data processing tools like MapReduce, Hadoop, Storm, and Spark</li>\n",
       " </ul>, <li>Provides a background in data science fundamentals before moving on to working with relational databases and\n",
       "         unstructured data and preparing your data for analysis</li>, <li>Details different data visualization techniques that can be used to showcase and summarize your data</li>, <li>Explains both supervised and unsupervised machine learning, including regression, model validation, and\n",
       "         clustering techniques</li>, <li>Includes coverage of big data processing tools like MapReduce, Hadoop, Storm, and Spark</li>, <br/>, <br/>, <br/>, <a class=\"preview\" href=\"http://www.data-mania.com/blog/books-by-lillian-pierson/\" id=\"link 1\">See a preview of the\n",
       "       book</a>, <a class=\"preview\" href=\"http://www.data-mania.com/blog/data-science-for-dummies-answers-what-is-data-science/\" id=\"link 2\">get the free pdf download,</a>, <a class=\"preview\" href=\"http://bit.ly/Data-Science-For-Dummies\" id=\"link 3\">buy the book!</a>, <p class=\"description\">...</p>]"
      ]
     },
     "execution_count": 29,
     "metadata": {},
     "output_type": "execute_result"
    }
   ],
   "source": [
    "soup.find_all(True)"
   ]
  },
  {
   "cell_type": "markdown",
   "metadata": {},
   "source": [
    "### Retrieving tags by filtering with string objects"
   ]
  },
  {
   "cell_type": "code",
   "execution_count": 31,
   "metadata": {},
   "outputs": [
    {
     "name": "stdout",
     "output_type": "stream",
     "text": [
      "http://www.data-mania.com/blog/books-by-lillian-pierson/\n",
      "http://www.data-mania.com/blog/data-science-for-dummies-answers-what-is-data-science/\n",
      "http://bit.ly/Data-Science-For-Dummies\n"
     ]
    }
   ],
   "source": [
    "for a in soup.find_all('a'):\n",
    "    print(a.get('href'))"
   ]
  },
  {
   "cell_type": "markdown",
   "metadata": {},
   "source": [
    "### Retrieving tags by filtering with regular expressions"
   ]
  },
  {
   "cell_type": "code",
   "execution_count": 33,
   "metadata": {},
   "outputs": [
    {
     "data": {
      "text/plain": [
       "['Jobs in data science abound, but few people have the data science skills needed to fill these\\n    increasingly important roles in organizations. Data Science For Dummies is the pe\\n    ',\n",
       " 'Provides a background in data science fundamentals before moving on to working with relational databases and\\n        unstructured data and preparing your data for analysis',\n",
       " 'Details different data visualization techniques that can be used to showcase and summarize your data',\n",
       " 'Includes coverage of big data processing tools like MapReduce, Hadoop, Storm, and Spark']"
      ]
     },
     "execution_count": 33,
     "metadata": {},
     "output_type": "execute_result"
    }
   ],
   "source": [
    "rex = re.compile(r'data')\n",
    "\n",
    "soup.find_all(string=rex)"
   ]
  },
  {
   "cell_type": "code",
   "execution_count": null,
   "metadata": {},
   "outputs": [],
   "source": []
  }
 ],
 "metadata": {
  "kernelspec": {
   "display_name": "Python 3",
   "language": "python",
   "name": "python3"
  },
  "language_info": {
   "codemirror_mode": {
    "name": "ipython",
    "version": 3
   },
   "file_extension": ".py",
   "mimetype": "text/x-python",
   "name": "python",
   "nbconvert_exporter": "python",
   "pygments_lexer": "ipython3",
   "version": "3.8.0"
  }
 },
 "nbformat": 4,
 "nbformat_minor": 2
}
